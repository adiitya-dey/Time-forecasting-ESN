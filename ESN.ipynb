{
 "cells": [
  {
   "cell_type": "code",
   "execution_count": 1,
   "metadata": {},
   "outputs": [],
   "source": [
    "from matplotlib import pyplot as plt\n",
    "import pandas as pd\n",
    "import numpy as np\n",
    "\n",
    "import scipy.signal as sig\n",
    "import scipy.integrate as sint\n",
    "\n",
    "from sklearn.preprocessing import MinMaxScaler\n",
    "from sklearn.linear_model import Ridge\n",
    "from sklearn.metrics import mean_squared_error, mean_absolute_error, mean_absolute_percentage_error\n",
    "from sklearn.model_selection import train_test_split, TimeSeriesSplit, GridSearchCV\n",
    "from sklearn.base import BaseEstimator, RegressorMixin\n",
    "# import torch\n",
    "# import torch.nn as nn\n",
    "# from torch.utils.data import DataLoader, TensorDataset\n",
    "# import torch.optim as optim\n",
    "\n",
    "from einops import rearrange, repeat, reduce\n",
    "\n",
    "# from statsmodels.tsa.stattools import adfuller, kpss\n",
    "# from statsmodels.tsa.statespace.tools import diff\n",
    "\n",
    "# torch.manual_seed(123)\n",
    "np.random.seed(123)"
   ]
  },
  {
   "cell_type": "markdown",
   "metadata": {},
   "source": [
    "# Echo State Network\n",
    "\n",
    "\n",
    "- Reservoir Computing framework\n",
    "- maps input signals to high dimensional computational spaces through the dynamics of fixed non-linear system called reservoir.\n",
    "- 3 main layers: input, dynamic reservoir, and output layer.\n",
    "- The input and reservoir weights are non-trainable, only output weights are trainable."
   ]
  },
  {
   "cell_type": "markdown",
   "metadata": {},
   "source": [
    "**Echo State property:**\n",
    "- The echo state property is achieved by spectral radius of reservoir matrix less than unity. $\\rho(|W_{res}|) < 1$. If spectral radius is greater than unity, it may lead to unstable and unpredictable behaviour.\n",
    "- Spectral radius represents magnitude of largest stretch factor of matrix in any direction in vector space.\n",
    "- Mathematically echo state property, states influence of intial conditions should dissipate exponentially over time leading to stable and predictable behaviour.\n",
    "- Network can capture relevant behaviour from past without being overwhelmed by noise.\n",
    "- Echo state will also depend on the factor that X and U are compact sets, where $X \\in R^N$ and $U \\in R^K$\n",
    "    - compactness of X warranted by the state activation function.\n",
    "    - comptactness of U needs to be warranted by using standardizations.\n",
    "- Yet according to Jaeger, \"spectral radius less unity\", this is a misconception which everybody is following."
   ]
  },
  {
   "cell_type": "markdown",
   "metadata": {},
   "source": [
    "**Equations**\n",
    "\n",
    "- $x_t = F(x_{t-1}, y_{t-1}, u_t)$\n",
    "- $x_t = f(W^{in} \\cdot u_t +  W^{res} \\cdot x_{t-1})$\n",
    "- $y_t = g(W^{out} \\cdot [x_t;u_t])$\n",
    "- where, \n",
    "    - $W^{\\text{res}} \\in N \\times N$ - reservoir weight matrix,\n",
    "    - $W_{in} \\in N \\times K$ - input to reservoir weight matrix,\n",
    "    - $W_{out} \\in L \\times (N + K)$ - reservoir to output weight matrix,\n",
    "    - $x_t \\in N \\times 1$ - state vector at time \"t\",\n",
    "    - $u_t \\in K \\times 1$ - input vector at time \"t\",\n",
    "    - $y_t \\in L \\times 1$ - output vector at time \"t\",\n",
    "    - $f()$ is state activation function, can be sigmoid or tanh,\n",
    "    - $g()$ is output activation function, can be linear or sigmoid,\n",
    "    - [;] denotes vector concatenation.\n",
    "\n",
    "- This is Leaky version of the equation: $x_t = (1- \\alpha) x_{t-1} + \\alpha f(W^{\\text{in}} \\cdot u_t +  W^{\\text{res}} \\cdot x_{t-1})$"
   ]
  },
  {
   "cell_type": "markdown",
   "metadata": {},
   "source": [
    "**Steps: (new version)**\n",
    "\n",
    "\n",
    "**Training**\n",
    "\n",
    "1. Initialize the Network.\n",
    "    - initiate $W^{in}$ as random uniformly distributed matrix. Shape = (N, K)\n",
    "    - initiate $W^{out}$ as random matrix. Shape = (L, N+K)\n",
    "    - inititate $W^{res} in a restrictive manner according to Jaeger:\n",
    "        - initiate a random matrix with all non-negative entries $w_{ij} > 0$\n",
    "        - Induce sparsity in the matrix using connectivity rate. The connectivity rate($\\alpha$) determines the connectivity between neurons. High $\\alpha$ is densely connected(weights should be low), Low $\\alpha$ is sparsely connected(weights should be high). Usually chosen as $[0.01, 0.05]$.\n",
    "        - Scale W such that $\\rho(W) < 1$. Note: since W is initialized as non-negative, we do not need to do absolute.\n",
    "        - Change signs of a desired number of entries of W to get negative connections.\n",
    "2. Calculate state as $x_t = f(W^{in} \\cdot u_t +  W^{res} \\cdot x_{t-1})$\n",
    "3. Calculate $W^{out}$ using Regression.\n",
    "\n",
    "\n",
    "**Testing**\n"
   ]
  },
  {
   "cell_type": "markdown",
   "metadata": {},
   "source": [
    "**Steps: (old version)**\n",
    "\n",
    "If we have a training data $[(u(1), y(1)), (u(2), y(2)), \\dots, (u(T), y(T))]$ such that $u(t) \\in R^{1 \\times K}$ and $y(t) \\in R^{1 \\times D}$ for T Time steps, then an ESN model can be trainined in the following way:\n",
    "\n",
    "1. Initialize the network.\n",
    "    - $W_{res} \\in R^{N \\times N}$ is a scaled sparse reservoir weight matrix.\n",
    "        - the size of reservoir(N) determines the time complexity and memory of the reservoir. Optimal values lies inthe interval $[T/10, T/2]$ where T is the length of training sample.\n",
    "        - The connectivity rate($\\alpha$) determines the connectivity between neurons. High $\\alpha$ is densely connected(weights should be low), Low $\\alpha$ is sparsely connected(weights should be high). Usually chosen as $[0.01, 0.05]$.\n",
    "        - The sparse weight matrix is scaled as $\\frac{\\rho}{|\\lambda_{max}|}W$ where $\\lambda_{max}$ is the largest eigenvalue and  $\\rho$ is spectral radius which should be less than 1 to enable Echo state property.\n",
    "    - $W_{in} \\in R^{N \\times K}$ is the input to reservoir: input weight matrix.\n",
    "        - Selected from uniform distribution of [$- scale_{in}, scale_{in}$]\n",
    "    - $W_{out} \\in R^{D \\times N}$ the reservoir to output: output weight matrix.\n",
    "    - $W_{back} \\in R^{N \\times D}$ the output to reservior: feedback weight matrix. (optional)\n",
    "    - washout Time step($I_0$) <i style=\"color: yellow;\">(What is this??)</i>\n",
    "        - Time period which we need to ignore until randomize values start to converge.\n",
    "\n",
    "\n",
    "2. Update the reservoir states using the below equation. This will lead to state for each time step, thus having T reservoir states.\n",
    "\n",
    "\\begin{equation}\n",
    "x(t) = f\\left(W_{\\text{in}} \\cdot u(t) +  W_{\\text{res}} \\cdot x(t-1) + W_{\\text{back}} \\cdot y(t-1) \\right)\n",
    "\\end{equation}\n",
    "\n",
    "Below equation is with a leaky parameter.\n",
    "    \n",
    "\\begin{aligned}\n",
    "x(t) = (1- \\alpha)x(t-1) + \\alpha f\\left(W_{\\text{in}} \\cdot u(t) +  W_{\\text{res}} \\cdot x(t-1) + W_{\\text{back}} \\cdot y(t-1) \\right)\n",
    "\\end{aligned}\n",
    "\n",
    "3. Update the $W_{out}$ using reservoir internal states $X \\in R^{N \\times T}$ and target vector $Y \\in R^{D \\times T}$.\n",
    "    - in offline method, this equation can be solved using Tikhnov Regularization/Ridge Regression.\n",
    "    - in online method, this can be solve using ordinary least squares(OLS).\n",
    "\n",
    "\\begin{aligned}\n",
    "\n",
    "W_{\\text{out}} = Y \\cdot X^{-1}\n",
    "\\end{aligned}\n",
    "\n",
    "\n",
    "4. For Prediction, use below equation.\n",
    "\n",
    "\n",
    "$\\hat{y}(t) = W_{\\text{out}} \\cdot x(t)$"
   ]
  },
  {
   "cell_type": "code",
   "execution_count": 2,
   "metadata": {},
   "outputs": [
    {
     "data": {
      "text/plain": [
       "array([[0., 0., 0., 0., 0.],\n",
       "       [0., 0., 0., 0., 0.],\n",
       "       [0., 0., 0., 0., 0.],\n",
       "       [0., 0., 0., 0., 0.],\n",
       "       [0., 0., 0., 0., 0.]])"
      ]
     },
     "execution_count": 2,
     "metadata": {},
     "output_type": "execute_result"
    }
   ],
   "source": [
    "## Inducing sparsity in matrix: \n",
    "## Connectivity rate = 0.0 makes all matrix values 0 and \n",
    "## Connectivity rate = 1.0 makes no values zero.\n",
    "## \n",
    "mat1 = np.random.rand(5,5)\n",
    "mat1[np.random.rand(*mat1.shape) > 0.0] = 0\n",
    "mat1"
   ]
  },
  {
   "cell_type": "code",
   "execution_count": 3,
   "metadata": {},
   "outputs": [
    {
     "data": {
      "text/plain": [
       "(15, 1)"
      ]
     },
     "execution_count": 3,
     "metadata": {},
     "output_type": "execute_result"
    }
   ],
   "source": [
    "x_t = np.random.randn(5, 1)\n",
    "u_t = np.random.randn(10,1)\n",
    "concat = np.concatenate((x_t, u_t))\n",
    "concat.shape"
   ]
  },
  {
   "cell_type": "code",
   "execution_count": 4,
   "metadata": {},
   "outputs": [
    {
     "data": {
      "text/plain": [
       "(1,)"
      ]
     },
     "execution_count": 4,
     "metadata": {},
     "output_type": "execute_result"
    }
   ],
   "source": [
    "X = np.random.randn(1,1)\n",
    "X = X.reshape(-1)\n",
    "X.shape"
   ]
  },
  {
   "cell_type": "markdown",
   "metadata": {},
   "source": [
    "1> \n",
    "y = x(t+1)\n",
    "\n",
    "x = x(t)\n",
    "W_out per time point.\n",
    "\n",
    "\n",
    "2> learn the all states possible\n",
    "then update W_out per epoch\n",
    "\n",
    "3> concat  loss of x(t)\n",
    "\n",
    "ESN1 - output calculate loss \n",
    "ESN2 - loss of output - ground truth\n",
    "Now minimize alha ESN 1 and beta ESN2, minimize this loss. alpha and beta will be hyperparameter.\n",
    "\n",
    "combined loss might make difficult optimization\n",
    "\n",
    "gradual loss --> Explor this idea."
   ]
  },
  {
   "cell_type": "markdown",
   "metadata": {},
   "source": [
    "### Augmented Data with stationarity"
   ]
  },
  {
   "cell_type": "code",
   "execution_count": 5,
   "metadata": {},
   "outputs": [
    {
     "name": "stdout",
     "output_type": "stream",
     "text": [
      "(400,)\n",
      "(100,)\n"
     ]
    },
    {
     "data": {
      "image/png": "[encoded data removed]",
      "text/plain": [
       "<Figure size 1000x500 with 1 Axes>"
      ]
     },
     "metadata": {},
     "output_type": "display_data"
    }
   ],
   "source": [
    "# Sinusoidal Curves - Seasonal stationary data.\n",
    "def func1(x):\n",
    "    return np.sin(x) + np.cos(2*x)\n",
    "\n",
    "\n",
    "points = np.linspace(1,50, 500)\n",
    "aug_series1 = func1(points)\n",
    "\n",
    "## Train and Test Splitting of Time Series Data\n",
    "X = aug_series1\n",
    "X_train, X_test = train_test_split(X, test_size=0.2, shuffle=False)\n",
    "print(X_train.shape)\n",
    "print(X_test.shape)\n",
    "\n",
    "plt.figure(figsize=(10,5))\n",
    "plt.plot(np.arange(len(X_train)), X_train, c='blue', label='Train')\n",
    "plt.plot(np.arange(len(X_train), len(X_train) + len(X_test)), X_test, c=\"red\", label='Test')\n",
    "# plt.plot(X_test, c='red')\n",
    "plt.legend()\n",
    "plt.show()\n"
   ]
  },
  {
   "cell_type": "code",
   "execution_count": 6,
   "metadata": {},
   "outputs": [],
   "source": [
    "X_train = rearrange(X_train, 'r -> r 1')\n",
    "X_test = rearrange(X_test, 'r -> r 1')\n",
    "\n",
    "sc = MinMaxScaler()\n",
    "X_train_std = sc.fit_transform(X_train)\n",
    "X_test_std = sc.transform(X_test)"
   ]
  },
  {
   "cell_type": "markdown",
   "metadata": {},
   "source": [
    "# Strategy 1> \n",
    "\n",
    "**Train on all time steps, and do backward once per epoch.**\n",
    "\n",
    "\n",
    "**Observationss**\n",
    "- Theroetically, this should need more epochs than doing per time step. <i style=\"color:red\">(Incorrect)</i>\n",
    "- We do not need epochs. It will calculate same weight in each epoch. \n",
    "\n",
    "**Standardized Results**\n",
    "\n",
    "| Parameters | RMSE | MAE | MAPE | \n",
    "|--|--|--|--|\n",
    "|size=10, spectral_radius=0.8, connectivity_rate=0.8 | 0.068 | 0.065| 5.16|\n",
    "|size=20, spectral_radius=0.8, connectivity_rate=0.8 | 0.024 | 0.021| 1.49|\n",
    "|size=50, spectral_radius=0.8, connectivity_rate=0.8 | 0.094 | 0.093| 6.45|\n",
    "|size=50, spectral_radius=0.3, connectivity_rate=0.5 | 0.014 | 0.011| 0.06|\n",
    "|size=100, spectral_radius=0.3, connectivity_rate=0.8 | 0.025 | 0.023| 1.90|\n",
    "\n",
    "**Scaled Results**\n",
    "\n",
    "| Parameters | RMSE | MAE | MAPE | \n",
    "|--|--|--|--|\n",
    "|size=10, spectral_radius=0.8, connectivity_rate=0.8 | 0.21 | 0.20| 0.79|\n",
    "|size=20, spectral_radius=0.8, connectivity_rate=0.8 | 0.07 | 0.06| 0.30|\n",
    "|size=50, spectral_radius=0.3, connectivity_rate=0.5 | 0.04 | 0.03| 0.15|\n",
    "|size=100, spectral_radius=0.3, connectivity_rate=0.8 | 0.079 | 0.074| 0.31|\n",
    "\n",
    "This shows:\n",
    "- if neurons are increased, spectral radius should be lowered to reduce size of weights and connectivity rate should be more sparse."
   ]
  },
  {
   "cell_type": "code",
   "execution_count": 7,
   "metadata": {},
   "outputs": [],
   "source": [
    "class ESN(BaseEstimator, RegressorMixin):\n",
    "\n",
    "    def __init__(self, reservoir_size=100, input_size=1, output_size=1,  spectral_radius=1.0, connectivity_rate=1.0, epochs=1, lr=0.01, leaky_parameter=1.0, washout=1):\n",
    "        self.reservoir_size = reservoir_size\n",
    "        self.input_size = input_size\n",
    "        self.epochs = epochs\n",
    "        self.lr = lr\n",
    "        self.washout = washout\n",
    "\n",
    "\n",
    "        self.state = np.zeros((self.reservoir_size, 1))\n",
    "        self.W_in = np.random.randn(reservoir_size, input_size) * 2 - 1\n",
    "        \n",
    "        self.W_out = None\n",
    "\n",
    "        ## Initialize a random matrix and induce sparsity.\n",
    "        self.W_res = np.random.randn(reservoir_size, reservoir_size)\n",
    "        self.W_res[np.random.rand(*self.W_res.shape) > connectivity_rate] = 0\n",
    "\n",
    "        ##  Scale the matrix based on user defined spectral radius.\n",
    "        current_spectral_radius = np.max(np.abs(np.linalg.eigvals(self.W_res)))\n",
    "        self.W_res = self.W_res * (spectral_radius / current_spectral_radius)\n",
    "\n",
    "\n",
    "    def fit(self, X_train, y_train):\n",
    "        \n",
    "        ## Epochs are useless. Keep it as 1 always.\n",
    "        for _ in range(self.epochs): \n",
    "\n",
    "            ## Reset states.\n",
    "            concat_matrix = np.zeros((self.input_size + self.reservoir_size, 1))\n",
    "            # self.state = np.zeros((self.reservoir_size, 1))\n",
    "\n",
    "            ## Calculate state of reservoirs per time step\n",
    "            for i in range(X_train.shape[0]-1):\n",
    "                input = X_train[i].reshape(-1,1)\n",
    "                input_product = self.W_in@input\n",
    "                state_product = self.W_res@self.state\n",
    "                self.state = np.tanh(input_product + state_product)\n",
    "                concat_matrix= np.hstack((concat_matrix, np.concatenate((self.state, input))))\n",
    "            \n",
    "\n",
    "            ## Update W_out\n",
    "            mat1 = concat_matrix.T[self.washout:,:]\n",
    "            ridge_regressor= Ridge(alpha=self.lr)\n",
    "            ridge_regressor.fit(mat1, y_train[self.washout:,:])\n",
    "            self.W_out = ridge_regressor.coef_\n",
    "            # self.W_out = np.dot(np.linalg.pinv(mat1), y_train)\n",
    "\n",
    "\n",
    "    def predict(self, X_test):\n",
    "            input_product = self.W_in@X_test\n",
    "            state_product = self.W_res@self.state\n",
    "            self.state = np.tanh(input_product + state_product)\n",
    "            concat_matrix= np.concatenate((self.state, X_test))\n",
    "            pred =  self.W_out@concat_matrix\n",
    "            return pred"
   ]
  },
  {
   "cell_type": "code",
   "execution_count": 8,
   "metadata": {},
   "outputs": [],
   "source": [
    "esn = ESN(reservoir_size=100, input_size=1, output_size=1, spectral_radius=0.1, connectivity_rate=0.5, washout=50)\n",
    "\n",
    "esn.fit(X_train_std, X_train_std)"
   ]
  },
  {
   "cell_type": "code",
   "execution_count": 9,
   "metadata": {},
   "outputs": [
    {
     "name": "stdout",
     "output_type": "stream",
     "text": [
      "0.021021233081190333\n",
      "0.0184083224039238\n",
      "1.02516685807743\n"
     ]
    }
   ],
   "source": [
    "y_pred = []\n",
    "\n",
    "for i in range(len(X_test_std)-1):\n",
    "    pred = esn.predict(X_test_std[i].reshape(-1,1))\n",
    "    y_pred.append(pred)\n",
    "\n",
    "predictions = np.array(y_pred).reshape(-1, 1)\n",
    "test_values= X_test_std[1:]\n",
    "\n",
    "print(np.sqrt(mean_squared_error(test_values, predictions)))\n",
    "print(mean_absolute_error(test_values, predictions))\n",
    "print(mean_absolute_percentage_error(test_values, predictions))"
   ]
  },
  {
   "cell_type": "code",
   "execution_count": 10,
   "metadata": {},
   "outputs": [
    {
     "name": "stdout",
     "output_type": "stream",
     "text": [
      "0.06566185729366512\n",
      "0.057500177750456634\n",
      "0.5390423384169105\n"
     ]
    }
   ],
   "source": [
    "predictions_scaled = sc.inverse_transform(predictions)\n",
    "print(np.sqrt(mean_squared_error(predictions_scaled, X_test[1:])))\n",
    "print(mean_absolute_error(predictions_scaled, X_test[1:]))\n",
    "print(mean_absolute_percentage_error(predictions_scaled, X_test[1:]))"
   ]
  },
  {
   "cell_type": "code",
   "execution_count": null,
   "metadata": {},
   "outputs": [],
   "source": []
  },
  {
   "cell_type": "code",
   "execution_count": null,
   "metadata": {},
   "outputs": [],
   "source": []
  },
  {
   "cell_type": "code",
   "execution_count": null,
   "metadata": {},
   "outputs": [],
   "source": []
  },
  {
   "cell_type": "code",
   "execution_count": null,
   "metadata": {},
   "outputs": [],
   "source": []
  },
  {
   "cell_type": "markdown",
   "metadata": {},
   "source": [
    "## Enabling Grid Search Functionality"
   ]
  },
  {
   "cell_type": "code",
   "execution_count": 11,
   "metadata": {},
   "outputs": [
    {
     "ename": "AttributeError",
     "evalue": "'ESN' object has no attribute 'connectivity_rate'",
     "output_type": "error",
     "traceback": [
      "\u001b[0;31m---------------------------------------------------------------------------\u001b[0m",
      "\u001b[0;31mAttributeError\u001b[0m                            Traceback (most recent call last)",
      "Cell \u001b[0;32mIn[11], line 9\u001b[0m\n\u001b[1;32m      1\u001b[0m param_grid \u001b[38;5;241m=\u001b[39m {\u001b[38;5;124m'\u001b[39m\u001b[38;5;124mreservoir_size\u001b[39m\u001b[38;5;124m'\u001b[39m: [\u001b[38;5;241m10\u001b[39m, \u001b[38;5;241m20\u001b[39m, \u001b[38;5;241m50\u001b[39m, \u001b[38;5;241m100\u001b[39m],\n\u001b[1;32m      2\u001b[0m               \u001b[38;5;124m'\u001b[39m\u001b[38;5;124mspectral_radius\u001b[39m\u001b[38;5;124m'\u001b[39m: [\u001b[38;5;241m0.1\u001b[39m, \u001b[38;5;241m0.2\u001b[39m, \u001b[38;5;241m0.5\u001b[39m, \u001b[38;5;241m0.7\u001b[39m, \u001b[38;5;241m0.9\u001b[39m, \u001b[38;5;241m1.0\u001b[39m],\n\u001b[1;32m      3\u001b[0m             \u001b[38;5;66;03m#   'connectivity_rate': [0.1, 0.2, 0.5, 0.7, 0.9, 1.0],\u001b[39;00m\n\u001b[1;32m      4\u001b[0m               \u001b[38;5;124m'\u001b[39m\u001b[38;5;124mleaky_parameter\u001b[39m\u001b[38;5;124m'\u001b[39m: [\u001b[38;5;241m0.0\u001b[39m, \u001b[38;5;241m0.2\u001b[39m, \u001b[38;5;241m0.5\u001b[39m, \u001b[38;5;241m0.8\u001b[39m, \u001b[38;5;241m1.0\u001b[39m]}\n\u001b[1;32m      6\u001b[0m grid \u001b[38;5;241m=\u001b[39m GridSearchCV(ESN(input_size\u001b[38;5;241m=\u001b[39m\u001b[38;5;241m1\u001b[39m, output_size\u001b[38;5;241m=\u001b[39m\u001b[38;5;241m1\u001b[39m), param_grid\u001b[38;5;241m=\u001b[39mparam_grid, refit\u001b[38;5;241m=\u001b[39m\u001b[38;5;28;01mTrue\u001b[39;00m, cv\u001b[38;5;241m=\u001b[39m\u001b[38;5;241m3\u001b[39m, scoring\u001b[38;5;241m=\u001b[39m\u001b[38;5;124m\"\u001b[39m\u001b[38;5;124mneg_root_mean_squared_error\u001b[39m\u001b[38;5;124m\"\u001b[39m)\n\u001b[0;32m----> 9\u001b[0m \u001b[43mgrid\u001b[49m\u001b[38;5;241;43m.\u001b[39;49m\u001b[43mfit\u001b[49m\u001b[43m(\u001b[49m\u001b[43mX_train_std\u001b[49m\u001b[43m,\u001b[49m\u001b[43m \u001b[49m\u001b[43mX_train_std\u001b[49m\u001b[43m)\u001b[49m\n",
      "File \u001b[0;32m~/Documents/Time-forecasting-ESN/.venv/lib/python3.12/site-packages/sklearn/base.py:1351\u001b[0m, in \u001b[0;36m_fit_context.<locals>.decorator.<locals>.wrapper\u001b[0;34m(estimator, *args, **kwargs)\u001b[0m\n\u001b[1;32m   1344\u001b[0m     estimator\u001b[38;5;241m.\u001b[39m_validate_params()\n\u001b[1;32m   1346\u001b[0m \u001b[38;5;28;01mwith\u001b[39;00m config_context(\n\u001b[1;32m   1347\u001b[0m     skip_parameter_validation\u001b[38;5;241m=\u001b[39m(\n\u001b[1;32m   1348\u001b[0m         prefer_skip_nested_validation \u001b[38;5;129;01mor\u001b[39;00m global_skip_validation\n\u001b[1;32m   1349\u001b[0m     )\n\u001b[1;32m   1350\u001b[0m ):\n\u001b[0;32m-> 1351\u001b[0m     \u001b[38;5;28;01mreturn\u001b[39;00m \u001b[43mfit_method\u001b[49m\u001b[43m(\u001b[49m\u001b[43mestimator\u001b[49m\u001b[43m,\u001b[49m\u001b[43m \u001b[49m\u001b[38;5;241;43m*\u001b[39;49m\u001b[43margs\u001b[49m\u001b[43m,\u001b[49m\u001b[43m \u001b[49m\u001b[38;5;241;43m*\u001b[39;49m\u001b[38;5;241;43m*\u001b[39;49m\u001b[43mkwargs\u001b[49m\u001b[43m)\u001b[49m\n",
      "File \u001b[0;32m~/Documents/Time-forecasting-ESN/.venv/lib/python3.12/site-packages/sklearn/model_selection/_search.py:882\u001b[0m, in \u001b[0;36mBaseSearchCV.fit\u001b[0;34m(self, X, y, **params)\u001b[0m\n\u001b[1;32m    879\u001b[0m cv_orig \u001b[38;5;241m=\u001b[39m check_cv(\u001b[38;5;28mself\u001b[39m\u001b[38;5;241m.\u001b[39mcv, y, classifier\u001b[38;5;241m=\u001b[39mis_classifier(estimator))\n\u001b[1;32m    880\u001b[0m n_splits \u001b[38;5;241m=\u001b[39m cv_orig\u001b[38;5;241m.\u001b[39mget_n_splits(X, y, \u001b[38;5;241m*\u001b[39m\u001b[38;5;241m*\u001b[39mrouted_params\u001b[38;5;241m.\u001b[39msplitter\u001b[38;5;241m.\u001b[39msplit)\n\u001b[0;32m--> 882\u001b[0m base_estimator \u001b[38;5;241m=\u001b[39m \u001b[43mclone\u001b[49m\u001b[43m(\u001b[49m\u001b[38;5;28;43mself\u001b[39;49m\u001b[38;5;241;43m.\u001b[39;49m\u001b[43mestimator\u001b[49m\u001b[43m)\u001b[49m\n\u001b[1;32m    884\u001b[0m parallel \u001b[38;5;241m=\u001b[39m Parallel(n_jobs\u001b[38;5;241m=\u001b[39m\u001b[38;5;28mself\u001b[39m\u001b[38;5;241m.\u001b[39mn_jobs, pre_dispatch\u001b[38;5;241m=\u001b[39m\u001b[38;5;28mself\u001b[39m\u001b[38;5;241m.\u001b[39mpre_dispatch)\n\u001b[1;32m    886\u001b[0m fit_and_score_kwargs \u001b[38;5;241m=\u001b[39m \u001b[38;5;28mdict\u001b[39m(\n\u001b[1;32m    887\u001b[0m     scorer\u001b[38;5;241m=\u001b[39mscorers,\n\u001b[1;32m    888\u001b[0m     fit_params\u001b[38;5;241m=\u001b[39mrouted_params\u001b[38;5;241m.\u001b[39mestimator\u001b[38;5;241m.\u001b[39mfit,\n\u001b[0;32m   (...)\u001b[0m\n\u001b[1;32m    895\u001b[0m     verbose\u001b[38;5;241m=\u001b[39m\u001b[38;5;28mself\u001b[39m\u001b[38;5;241m.\u001b[39mverbose,\n\u001b[1;32m    896\u001b[0m )\n",
      "File \u001b[0;32m~/Documents/Time-forecasting-ESN/.venv/lib/python3.12/site-packages/sklearn/base.py:90\u001b[0m, in \u001b[0;36mclone\u001b[0;34m(estimator, safe)\u001b[0m\n\u001b[1;32m     41\u001b[0m \u001b[38;5;250m\u001b[39m\u001b[38;5;124;03m\"\"\"Construct a new unfitted estimator with the same parameters.\u001b[39;00m\n\u001b[1;32m     42\u001b[0m \n\u001b[1;32m     43\u001b[0m \u001b[38;5;124;03mClone does a deep copy of the model in an estimator\u001b[39;00m\n\u001b[0;32m   (...)\u001b[0m\n\u001b[1;32m     87\u001b[0m \u001b[38;5;124;03mFalse\u001b[39;00m\n\u001b[1;32m     88\u001b[0m \u001b[38;5;124;03m\"\"\"\u001b[39;00m\n\u001b[1;32m     89\u001b[0m \u001b[38;5;28;01mif\u001b[39;00m \u001b[38;5;28mhasattr\u001b[39m(estimator, \u001b[38;5;124m\"\u001b[39m\u001b[38;5;124m__sklearn_clone__\u001b[39m\u001b[38;5;124m\"\u001b[39m) \u001b[38;5;129;01mand\u001b[39;00m \u001b[38;5;129;01mnot\u001b[39;00m inspect\u001b[38;5;241m.\u001b[39misclass(estimator):\n\u001b[0;32m---> 90\u001b[0m     \u001b[38;5;28;01mreturn\u001b[39;00m \u001b[43mestimator\u001b[49m\u001b[38;5;241;43m.\u001b[39;49m\u001b[43m__sklearn_clone__\u001b[49m\u001b[43m(\u001b[49m\u001b[43m)\u001b[49m\n\u001b[1;32m     91\u001b[0m \u001b[38;5;28;01mreturn\u001b[39;00m _clone_parametrized(estimator, safe\u001b[38;5;241m=\u001b[39msafe)\n",
      "File \u001b[0;32m~/Documents/Time-forecasting-ESN/.venv/lib/python3.12/site-packages/sklearn/base.py:296\u001b[0m, in \u001b[0;36mBaseEstimator.__sklearn_clone__\u001b[0;34m(self)\u001b[0m\n\u001b[1;32m    295\u001b[0m \u001b[38;5;28;01mdef\u001b[39;00m \u001b[38;5;21m__sklearn_clone__\u001b[39m(\u001b[38;5;28mself\u001b[39m):\n\u001b[0;32m--> 296\u001b[0m     \u001b[38;5;28;01mreturn\u001b[39;00m \u001b[43m_clone_parametrized\u001b[49m\u001b[43m(\u001b[49m\u001b[38;5;28;43mself\u001b[39;49m\u001b[43m)\u001b[49m\n",
      "File \u001b[0;32m~/Documents/Time-forecasting-ESN/.venv/lib/python3.12/site-packages/sklearn/base.py:121\u001b[0m, in \u001b[0;36m_clone_parametrized\u001b[0;34m(estimator, safe)\u001b[0m\n\u001b[1;32m    113\u001b[0m             \u001b[38;5;28;01mraise\u001b[39;00m \u001b[38;5;167;01mTypeError\u001b[39;00m(\n\u001b[1;32m    114\u001b[0m                 \u001b[38;5;124m\"\u001b[39m\u001b[38;5;124mCannot clone object \u001b[39m\u001b[38;5;124m'\u001b[39m\u001b[38;5;132;01m%s\u001b[39;00m\u001b[38;5;124m'\u001b[39m\u001b[38;5;124m (type \u001b[39m\u001b[38;5;132;01m%s\u001b[39;00m\u001b[38;5;124m): \u001b[39m\u001b[38;5;124m\"\u001b[39m\n\u001b[1;32m    115\u001b[0m                 \u001b[38;5;124m\"\u001b[39m\u001b[38;5;124mit does not seem to be a scikit-learn \u001b[39m\u001b[38;5;124m\"\u001b[39m\n\u001b[1;32m    116\u001b[0m                 \u001b[38;5;124m\"\u001b[39m\u001b[38;5;124mestimator as it does not implement a \u001b[39m\u001b[38;5;124m\"\u001b[39m\n\u001b[1;32m    117\u001b[0m                 \u001b[38;5;124m\"\u001b[39m\u001b[38;5;124m'\u001b[39m\u001b[38;5;124mget_params\u001b[39m\u001b[38;5;124m'\u001b[39m\u001b[38;5;124m method.\u001b[39m\u001b[38;5;124m\"\u001b[39m \u001b[38;5;241m%\u001b[39m (\u001b[38;5;28mrepr\u001b[39m(estimator), \u001b[38;5;28mtype\u001b[39m(estimator))\n\u001b[1;32m    118\u001b[0m             )\n\u001b[1;32m    120\u001b[0m klass \u001b[38;5;241m=\u001b[39m estimator\u001b[38;5;241m.\u001b[39m\u001b[38;5;18m__class__\u001b[39m\n\u001b[0;32m--> 121\u001b[0m new_object_params \u001b[38;5;241m=\u001b[39m \u001b[43mestimator\u001b[49m\u001b[38;5;241;43m.\u001b[39;49m\u001b[43mget_params\u001b[49m\u001b[43m(\u001b[49m\u001b[43mdeep\u001b[49m\u001b[38;5;241;43m=\u001b[39;49m\u001b[38;5;28;43;01mFalse\u001b[39;49;00m\u001b[43m)\u001b[49m\n\u001b[1;32m    122\u001b[0m \u001b[38;5;28;01mfor\u001b[39;00m name, param \u001b[38;5;129;01min\u001b[39;00m new_object_params\u001b[38;5;241m.\u001b[39mitems():\n\u001b[1;32m    123\u001b[0m     new_object_params[name] \u001b[38;5;241m=\u001b[39m clone(param, safe\u001b[38;5;241m=\u001b[39m\u001b[38;5;28;01mFalse\u001b[39;00m)\n",
      "File \u001b[0;32m~/Documents/Time-forecasting-ESN/.venv/lib/python3.12/site-packages/sklearn/base.py:244\u001b[0m, in \u001b[0;36mBaseEstimator.get_params\u001b[0;34m(self, deep)\u001b[0m\n\u001b[1;32m    242\u001b[0m out \u001b[38;5;241m=\u001b[39m \u001b[38;5;28mdict\u001b[39m()\n\u001b[1;32m    243\u001b[0m \u001b[38;5;28;01mfor\u001b[39;00m key \u001b[38;5;129;01min\u001b[39;00m \u001b[38;5;28mself\u001b[39m\u001b[38;5;241m.\u001b[39m_get_param_names():\n\u001b[0;32m--> 244\u001b[0m     value \u001b[38;5;241m=\u001b[39m \u001b[38;5;28;43mgetattr\u001b[39;49m\u001b[43m(\u001b[49m\u001b[38;5;28;43mself\u001b[39;49m\u001b[43m,\u001b[49m\u001b[43m \u001b[49m\u001b[43mkey\u001b[49m\u001b[43m)\u001b[49m\n\u001b[1;32m    245\u001b[0m     \u001b[38;5;28;01mif\u001b[39;00m deep \u001b[38;5;129;01mand\u001b[39;00m \u001b[38;5;28mhasattr\u001b[39m(value, \u001b[38;5;124m\"\u001b[39m\u001b[38;5;124mget_params\u001b[39m\u001b[38;5;124m\"\u001b[39m) \u001b[38;5;129;01mand\u001b[39;00m \u001b[38;5;129;01mnot\u001b[39;00m \u001b[38;5;28misinstance\u001b[39m(value, \u001b[38;5;28mtype\u001b[39m):\n\u001b[1;32m    246\u001b[0m         deep_items \u001b[38;5;241m=\u001b[39m value\u001b[38;5;241m.\u001b[39mget_params()\u001b[38;5;241m.\u001b[39mitems()\n",
      "\u001b[0;31mAttributeError\u001b[0m: 'ESN' object has no attribute 'connectivity_rate'"
     ]
    }
   ],
   "source": [
    "param_grid = {'reservoir_size': [10, 20, 50, 100],\n",
    "              'spectral_radius': [0.1, 0.2, 0.5, 0.7, 0.9, 1.0],\n",
    "            #   'connectivity_rate': [0.1, 0.2, 0.5, 0.7, 0.9, 1.0],\n",
    "              'leaky_parameter': [0.0, 0.2, 0.5, 0.8, 1.0]}\n",
    "\n",
    "grid = GridSearchCV(ESN(input_size=1, output_size=1), param_grid=param_grid, refit=True, cv=3, scoring=\"neg_root_mean_squared_error\")\n",
    "\n",
    "\n",
    "grid.fit(X_train_std, X_train_std)"
   ]
  },
  {
   "cell_type": "code",
   "execution_count": null,
   "metadata": {},
   "outputs": [],
   "source": []
  },
  {
   "cell_type": "code",
   "execution_count": null,
   "metadata": {},
   "outputs": [],
   "source": []
  }
 ],
 "metadata": {
  "kernelspec": {
   "display_name": ".venv",
   "language": "python",
   "name": "python3"
  },
  "language_info": {
   "codemirror_mode": {
    "name": "ipython",
    "version": 3
   },
   "file_extension": ".py",
   "mimetype": "text/x-python",
   "name": "python",
   "nbconvert_exporter": "python",
   "pygments_lexer": "ipython3",
   "version": "3.12.1"
  }
 },
 "nbformat": 4,
 "nbformat_minor": 2
}
