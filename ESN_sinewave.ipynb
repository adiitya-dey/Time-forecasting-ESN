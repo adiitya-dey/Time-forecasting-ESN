{
 "cells": [
  {
   "cell_type": "code",
   "execution_count": 1,
   "metadata": {},
   "outputs": [],
   "source": [
    "from matplotlib import pyplot as plt\n",
    "import pandas as pd\n",
    "import numpy as np\n",
    "\n",
    "import scipy.signal as sig\n",
    "import scipy.integrate as sint\n",
    "\n",
    "from sklearn.preprocessing import MinMaxScaler\n",
    "from sklearn.linear_model import Ridge\n",
    "from sklearn.metrics import mean_squared_error, mean_absolute_error, mean_absolute_percentage_error\n",
    "from sklearn.model_selection import train_test_split, TimeSeriesSplit, GridSearchCV\n",
    "from sklearn.base import BaseEstimator, RegressorMixin\n",
    "# import torch\n",
    "# import torch.nn as nn\n",
    "# from torch.utils.data import DataLoader, TensorDataset\n",
    "# import torch.optim as optim\n",
    "\n",
    "from einops import rearrange, repeat, reduce\n",
    "\n",
    "# from statsmodels.tsa.stattools import adfuller, kpss\n",
    "# from statsmodels.tsa.statespace.tools import diff\n",
    "\n",
    "# torch.manual_seed(123)\n",
    "np.random.seed(123)"
   ]
  },
  {
   "cell_type": "code",
   "execution_count": 13,
   "metadata": {},
   "outputs": [
    {
     "ename": "TypeError",
     "evalue": "only integer scalar arrays can be converted to a scalar index",
     "output_type": "error",
     "traceback": [
      "\u001b[0;31m---------------------------------------------------------------------------\u001b[0m",
      "\u001b[0;31mTypeError\u001b[0m                                 Traceback (most recent call last)",
      "Cell \u001b[0;32mIn[13], line 17\u001b[0m\n\u001b[1;32m     15\u001b[0m state \u001b[38;5;241m=\u001b[39m np\u001b[38;5;241m.\u001b[39mtanh(W_res\u001b[38;5;129m@state\u001b[39m \u001b[38;5;241m+\u001b[39m W_back\u001b[38;5;129m@y\u001b[39m[\u001b[38;5;241m-\u001b[39m\u001b[38;5;241m1\u001b[39m])\n\u001b[1;32m     16\u001b[0m state_history\u001b[38;5;241m.\u001b[39mappend(state)\n\u001b[0;32m---> 17\u001b[0m pred \u001b[38;5;241m=\u001b[39m W_out\u001b[38;5;241m@\u001b[39m(\u001b[43mnp\u001b[49m\u001b[38;5;241;43m.\u001b[39;49m\u001b[43mconcatenate\u001b[49m\u001b[43m(\u001b[49m\u001b[43mstate\u001b[49m\u001b[43m,\u001b[49m\u001b[43m \u001b[49m\u001b[43my\u001b[49m\u001b[43m[\u001b[49m\u001b[38;5;241;43m-\u001b[39;49m\u001b[38;5;241;43m1\u001b[39;49m\u001b[43m]\u001b[49m\u001b[43m)\u001b[49m)\n\u001b[1;32m     18\u001b[0m \u001b[38;5;28mprint\u001b[39m(pred\u001b[38;5;241m.\u001b[39mshape)\n\u001b[1;32m     19\u001b[0m y\u001b[38;5;241m.\u001b[39mappend(pred)\n",
      "\u001b[0;31mTypeError\u001b[0m: only integer scalar arrays can be converted to a scalar index"
     ]
    }
   ],
   "source": [
    "\n",
    "W_res = np.random.randn(20, 20)\n",
    "# W_res[np.random.rand(*W_res.shape) > self.connectivity_rate] = 0\n",
    "current_spectral_radius = np.max(np.abs(np.linalg.eigvals(W_res)))\n",
    "W_res = W_res * (0.7 / current_spectral_radius)\n",
    "\n",
    "W_back = np.random.randn(20, 1)\n",
    "W_out = np.random.randn(1, 20)\n",
    "state = np.zeros((20,1))\n",
    "state_history = [state]\n",
    "\n",
    "y = [np.zeros((20,1))]\n",
    "\n",
    "for i in range(300):\n",
    "   \n",
    "    state = np.tanh(W_res@state + W_back@y[-1])\n",
    "    state_history.append(state)\n",
    "    pred = W_out@(np.concatenate(state, y[-1]))\n",
    "    print(pred.shape)\n",
    "    y.append(pred)\n",
    "\n",
    "\n",
    "\n"
   ]
  },
  {
   "cell_type": "code",
   "execution_count": 12,
   "metadata": {},
   "outputs": [
    {
     "data": {
      "text/plain": [
       "(1, 20, 1)"
      ]
     },
     "execution_count": 12,
     "metadata": {},
     "output_type": "execute_result"
    }
   ],
   "source": [
    "state_history = np.array(state_history)\n",
    "state_history.shape"
   ]
  },
  {
   "cell_type": "code",
   "execution_count": 18,
   "metadata": {},
   "outputs": [
    {
     "data": {
      "text/plain": [
       "array([1, 4, 9])"
      ]
     },
     "execution_count": 18,
     "metadata": {},
     "output_type": "execute_result"
    }
   ],
   "source": [
    "np.square([1,2,3])\n",
    "# np.concatenate(state, y[-1])"
   ]
  },
  {
   "cell_type": "code",
   "execution_count": null,
   "metadata": {},
   "outputs": [],
   "source": []
  }
 ],
 "metadata": {
  "kernelspec": {
   "display_name": ".venv",
   "language": "python",
   "name": "python3"
  },
  "language_info": {
   "codemirror_mode": {
    "name": "ipython",
    "version": 3
   },
   "file_extension": ".py",
   "mimetype": "text/x-python",
   "name": "python",
   "nbconvert_exporter": "python",
   "pygments_lexer": "ipython3",
   "version": "3.10.12"
  }
 },
 "nbformat": 4,
 "nbformat_minor": 2
}
