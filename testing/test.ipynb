{
 "cells": [
  {
   "cell_type": "code",
   "execution_count": 93,
   "metadata": {},
   "outputs": [],
   "source": [
    "import tensorflow as tf\n",
    "from einops import rearrange\n",
    "\n",
    "tf.random.set_seed(123)"
   ]
  },
  {
   "cell_type": "code",
   "execution_count": 94,
   "metadata": {},
   "outputs": [],
   "source": [
    "import pandas as pd\n",
    "import numpy as np\n",
    "import matplotlib.pyplot as plt\n",
    "\n",
    "from sklearn.preprocessing import MinMaxScaler\n",
    "from sklearn.linear_model import Ridge\n",
    "from sklearn.metrics import mean_squared_error, mean_absolute_error, mean_absolute_percentage_error\n",
    "from sklearn.model_selection import train_test_split\n",
    "from sklearn.base import BaseEstimator\n",
    "\n",
    "from einops import rearrange, repeat, reduce\n",
    "\n",
    "from darts.datasets import AirPassengersDataset"
   ]
  },
  {
   "cell_type": "code",
   "execution_count": 105,
   "metadata": {},
   "outputs": [
    {
     "data": {
      "text/plain": [
       "<tf.Tensor: shape=(1, 1), dtype=float32, numpy=array([[-0.9684915]], dtype=float32)>"
      ]
     },
     "execution_count": 105,
     "metadata": {},
     "output_type": "execute_result"
    }
   ],
   "source": [
    "# Fixed Attention Test\n",
    "\n",
    "def get_matrix(a,b):\n",
    "    return tf.random.normal((a,b))\n",
    "\n",
    "W_1 = get_matrix(5, 1)\n",
    "W_2 = get_matrix(5, 1)\n",
    "W_3 = get_matrix(5, 1)\n",
    "W_4 = get_matrix(5, 1)\n",
    "\n",
    "input = tf.random.normal((1,1))\n"
   ]
  },
  {
   "cell_type": "code",
   "execution_count": 107,
   "metadata": {},
   "outputs": [
    {
     "data": {
      "text/plain": [
       "<tf.Tensor: shape=(5, 1), dtype=float32, numpy=\n",
       "array([[ 0.367952 ],\n",
       "       [-0.6621656],\n",
       "       [ 2.15393  ],\n",
       "       [ 0.6223257],\n",
       "       [-0.893998 ]], dtype=float32)>"
      ]
     },
     "execution_count": 107,
     "metadata": {},
     "output_type": "execute_result"
    }
   ],
   "source": [
    "W_1@input"
   ]
  },
  {
   "cell_type": "code",
   "execution_count": 115,
   "metadata": {},
   "outputs": [
    {
     "data": {
      "text/plain": [
       "<tf.Tensor: shape=(5, 3), dtype=float32, numpy=\n",
       "array([[ 0.367952  ,  0.47415724,  0.7760082 ],\n",
       "       [-0.6621656 , -0.91501427, -1.0060192 ],\n",
       "       [ 2.15393   ,  0.48954043, -0.25503266],\n",
       "       [ 0.6223257 ,  0.00335142,  1.0305272 ],\n",
       "       [-0.893998  , -1.2598883 ,  2.704208  ]], dtype=float32)>"
      ]
     },
     "execution_count": 115,
     "metadata": {},
     "output_type": "execute_result"
    }
   ],
   "source": [
    "tf.concat([tf.matmul(W_1, input), tf.matmul(W_2, input), tf.matmul(W_3, input)], axis=1)"
   ]
  },
  {
   "cell_type": "code",
   "execution_count": 95,
   "metadata": {},
   "outputs": [],
   "source": [
    "\n",
    "class ESN(tf.keras.layers.Layer):\n",
    "    def __init__(self, reservoir_size=100, spectral_radius=1.0, connectivity_rate=1.0, activation=\"tanh\"):\n",
    "        \n",
    "        super(ESN, self).__init__()\n",
    "        self.reservoir_size = reservoir_size\n",
    "        self.connectivity_rate = connectivity_rate\n",
    "        self.spectral_radius = spectral_radius\n",
    "        self.activation = self.activation_fn(activation)\n",
    "\n",
    "\n",
    "    def build(self, input_shape):\n",
    "        self.state = self.add_weight(shape=)\n",
    "\n",
    "\n",
    "        self.state = tf.zeros((self.reservoir_size, 1))\n",
    "        self.W_in = tf.random.uniform((self.reservoir_size, self.input_size), minval=-1, maxval=1)\n",
    "\n",
    "        self.W_out = None\n",
    "\n",
    "        ## Initializing Reservoir Weights according to \"Re-visiting the echo state property\"(2012)\n",
    "        ##\n",
    "        ## Initialize a random matrix and induce sparsity.\n",
    "        self.W_res = tf.random.normal((reservoir_size, reservoir_size))\n",
    "        self.W_res = tf.where(tf.random.normal(self.W_res.shape) > self.connectivity_rate, tf.zeros_like(self.W_res), self.W_res)\n",
    "\n",
    "\n",
    "        ## Scale the matrix based on user defined spectral radius.\n",
    "        current_spectral_radius = tf.reduce_max(tf.abs(tf.linalg.eigvals(self.W_res)))\n",
    "        self.W_res = self.W_res * (self.spectral_radius / current_spectral_radius)        \n",
    "\n",
    "        self.all_states = [self.state]\n",
    "\n",
    "    \n",
    "    @staticmethod\n",
    "    def activation_fn(x):\n",
    "         \n",
    "        activation_keys = [\"sigmoid\", \"relu\", \"tanh\"]\n",
    "\n",
    "        if x in activation_keys:\n",
    "              if x == \"tanh\":\n",
    "                   return tf.keras.activations.tanh\n",
    "              elif x == \"relu\":\n",
    "                   return tf.keras.activations.relu()\n",
    "              elif x == \"sigmoid\":\n",
    "                   return tf.keras.activations.sigmoid()\n",
    "            \n",
    "        else:\n",
    "            raise ValueError(f\"Activation {x} does not exists\")\n",
    "        \n",
    "\n",
    "    def fit(self, X_train, y_train):\n",
    "        \n",
    "\n",
    "        state_collection_matrix = tf.zeros((self.input_size + self.reservoir_size, 1))\n",
    "        # self.state = np.zeros((self.reservoir_size, 1))\n",
    "\n",
    "        ## Calculate state of reservoirs per time step\n",
    "        for i in range(X_train.shape[0]-1):\n",
    "\n",
    "            \n",
    "\n",
    "            input = rearrange(X_train[i], 'c -> c 1')\n",
    "            \n",
    "            # print(input.dtype, self.W_in.dtype)\n",
    "            input_product = self.W_in@input\n",
    "            state_product = self.W_res@self.state\n",
    "            self.state = self.activation(input_product + state_product)\n",
    "            state_collection_matrix= tf.concat([state_collection_matrix, tf.concat([self.state, input], axis=0)], axis=1)\n",
    "\n",
    "            self.all_states.append(self.state)\n",
    "\n",
    "        ## Update W_out\n",
    "        mat1 = tf.transpose(state_collection_matrix)[self.washout:,:]\n",
    "        self.W_out = tf.transpose(tf.linalg.lstsq(matrix=mat1, rhs=y_train[self.washout:,:], l2_regularizer=0.01))\n",
    "\n",
    "        \n",
    "        \n",
    "    def predict(self, X_test):\n",
    "            prediction = tf.zeros((self.output_size,1))\n",
    "            for i in range(X_test.shape[0]- 1):\n",
    "                input = rearrange(X_test[i], 'c -> c 1')\n",
    "                \n",
    "                input_product = self.W_in@input\n",
    "                state_product = self.W_res@self.state\n",
    "                self.state = self.activation(input_product + state_product)\n",
    "                concat_matrix= tf.concat([self.state, input], axis=0)\n",
    "                # print(self.W_out.shape, concat_matrix.shape)\n",
    "                pred =  self.W_out@concat_matrix\n",
    "                prediction = tf.concat([prediction, pred], axis=1)\n",
    "\n",
    "                self.all_states.append(self.state)\n",
    "            \n",
    "            prediction = rearrange(prediction, 'c r -> r c')\n",
    "            if self.output_size == self.input_size:\n",
    "                return prediction[1:,:]\n",
    "            else:\n",
    "                return prediction"
   ]
  },
  {
   "cell_type": "code",
   "execution_count": 96,
   "metadata": {},
   "outputs": [],
   "source": [
    "time_series = AirPassengersDataset().load()\n",
    "X = time_series.values()\n",
    "X_train, X_test = train_test_split(X, test_size=0.2, shuffle=False)\n",
    "\n",
    "sc = MinMaxScaler()\n",
    "X_train_std = sc.fit_transform(X_train)\n",
    "X_test_std = sc.transform(X_test)"
   ]
  },
  {
   "cell_type": "code",
   "execution_count": 97,
   "metadata": {},
   "outputs": [],
   "source": [
    "X_train_std = tf.convert_to_tensor(X_train_std, dtype=tf.float32)\n",
    "X_test_std = tf.convert_to_tensor(X_test_std, dtype=tf.float32)"
   ]
  },
  {
   "cell_type": "code",
   "execution_count": 98,
   "metadata": {},
   "outputs": [],
   "source": [
    "esn = ESN(reservoir_size=20, input_size=1, output_size=1, spectral_radius=0.7, connectivity_rate=0.8, washout=1)"
   ]
  },
  {
   "cell_type": "code",
   "execution_count": 99,
   "metadata": {},
   "outputs": [
    {
     "data": {
      "text/html": [
       "<pre style=\"white-space:pre;overflow-x:auto;line-height:normal;font-family:Menlo,'DejaVu Sans Mono',consolas,'Courier New',monospace\"><span style=\"font-weight: bold\">Model: \"esn_14\"</span>\n",
       "</pre>\n"
      ],
      "text/plain": [
       "\u001b[1mModel: \"esn_14\"\u001b[0m\n"
      ]
     },
     "metadata": {},
     "output_type": "display_data"
    },
    {
     "data": {
      "text/html": [
       "<pre style=\"white-space:pre;overflow-x:auto;line-height:normal;font-family:Menlo,'DejaVu Sans Mono',consolas,'Courier New',monospace\">┏━━━━━━━━━━━━━━━━━━━━━━━━━━━━━━━━━┳━━━━━━━━━━━━━━━━━━━━━━━━┳━━━━━━━━━━━━━━━┓\n",
       "┃<span style=\"font-weight: bold\"> Layer (type)                    </span>┃<span style=\"font-weight: bold\"> Output Shape           </span>┃<span style=\"font-weight: bold\">       Param # </span>┃\n",
       "┡━━━━━━━━━━━━━━━━━━━━━━━━━━━━━━━━━╇━━━━━━━━━━━━━━━━━━━━━━━━╇━━━━━━━━━━━━━━━┩\n",
       "└─────────────────────────────────┴────────────────────────┴───────────────┘\n",
       "</pre>\n"
      ],
      "text/plain": [
       "┏━━━━━━━━━━━━━━━━━━━━━━━━━━━━━━━━━┳━━━━━━━━━━━━━━━━━━━━━━━━┳━━━━━━━━━━━━━━━┓\n",
       "┃\u001b[1m \u001b[0m\u001b[1mLayer (type)                   \u001b[0m\u001b[1m \u001b[0m┃\u001b[1m \u001b[0m\u001b[1mOutput Shape          \u001b[0m\u001b[1m \u001b[0m┃\u001b[1m \u001b[0m\u001b[1m      Param #\u001b[0m\u001b[1m \u001b[0m┃\n",
       "┡━━━━━━━━━━━━━━━━━━━━━━━━━━━━━━━━━╇━━━━━━━━━━━━━━━━━━━━━━━━╇━━━━━━━━━━━━━━━┩\n",
       "└─────────────────────────────────┴────────────────────────┴───────────────┘\n"
      ]
     },
     "metadata": {},
     "output_type": "display_data"
    },
    {
     "data": {
      "text/html": [
       "<pre style=\"white-space:pre;overflow-x:auto;line-height:normal;font-family:Menlo,'DejaVu Sans Mono',consolas,'Courier New',monospace\"><span style=\"font-weight: bold\"> Total params: </span><span style=\"color: #00af00; text-decoration-color: #00af00\">0</span> (0.00 B)\n",
       "</pre>\n"
      ],
      "text/plain": [
       "\u001b[1m Total params: \u001b[0m\u001b[38;5;34m0\u001b[0m (0.00 B)\n"
      ]
     },
     "metadata": {},
     "output_type": "display_data"
    },
    {
     "data": {
      "text/html": [
       "<pre style=\"white-space:pre;overflow-x:auto;line-height:normal;font-family:Menlo,'DejaVu Sans Mono',consolas,'Courier New',monospace\"><span style=\"font-weight: bold\"> Trainable params: </span><span style=\"color: #00af00; text-decoration-color: #00af00\">0</span> (0.00 B)\n",
       "</pre>\n"
      ],
      "text/plain": [
       "\u001b[1m Trainable params: \u001b[0m\u001b[38;5;34m0\u001b[0m (0.00 B)\n"
      ]
     },
     "metadata": {},
     "output_type": "display_data"
    },
    {
     "data": {
      "text/html": [
       "<pre style=\"white-space:pre;overflow-x:auto;line-height:normal;font-family:Menlo,'DejaVu Sans Mono',consolas,'Courier New',monospace\"><span style=\"font-weight: bold\"> Non-trainable params: </span><span style=\"color: #00af00; text-decoration-color: #00af00\">0</span> (0.00 B)\n",
       "</pre>\n"
      ],
      "text/plain": [
       "\u001b[1m Non-trainable params: \u001b[0m\u001b[38;5;34m0\u001b[0m (0.00 B)\n"
      ]
     },
     "metadata": {},
     "output_type": "display_data"
    }
   ],
   "source": [
    "esn.summary()"
   ]
  },
  {
   "cell_type": "code",
   "execution_count": 100,
   "metadata": {},
   "outputs": [],
   "source": [
    "esn.fit(X_train_std, X_train_std)"
   ]
  },
  {
   "cell_type": "code",
   "execution_count": 101,
   "metadata": {},
   "outputs": [
    {
     "data": {
      "text/plain": [
       "<tf.Tensor: shape=(28, 1), dtype=float32, numpy=\n",
       "array([[1.0219061 ],\n",
       "       [0.6251821 ],\n",
       "       [0.63051164],\n",
       "       [0.4909718 ],\n",
       "       [0.7011042 ],\n",
       "       [0.7003457 ],\n",
       "       [0.6162143 ],\n",
       "       [0.79905677],\n",
       "       [0.6953214 ],\n",
       "       [0.83498377],\n",
       "       [0.9287133 ],\n",
       "       [1.121824  ],\n",
       "       [1.0545398 ],\n",
       "       [0.7571722 ],\n",
       "       [0.7168091 ],\n",
       "       [0.6399275 ],\n",
       "       [0.85743266],\n",
       "       [0.8104043 ],\n",
       "       [0.7187937 ],\n",
       "       [0.800771  ],\n",
       "       [0.9060784 ],\n",
       "       [0.9192144 ],\n",
       "       [1.0868392 ],\n",
       "       [1.2482482 ],\n",
       "       [1.1130052 ],\n",
       "       [0.8471237 ],\n",
       "       [0.8318977 ],\n",
       "       [0.67082405]], dtype=float32)>"
      ]
     },
     "execution_count": 101,
     "metadata": {},
     "output_type": "execute_result"
    }
   ],
   "source": [
    "esn.predict(X_test_std)"
   ]
  },
  {
   "cell_type": "code",
   "execution_count": 102,
   "metadata": {},
   "outputs": [
    {
     "name": "stdout",
     "output_type": "stream",
     "text": [
      "MSE: 0.13514134\n",
      "MAE: 0.111692026\n",
      "MAPE: 0.1327499\n"
     ]
    }
   ],
   "source": [
    "test_values= X_test_std[1:]\n",
    "test_values.shape\n",
    "predictions = esn.predict(X_test_std)\n",
    "predictions.shape\n",
    "print(\"MSE:\", np.sqrt(mean_squared_error(test_values, predictions)))\n",
    "print(\"MAE:\", mean_absolute_error(test_values, predictions))\n",
    "print(\"MAPE:\",mean_absolute_percentage_error(test_values, predictions))"
   ]
  },
  {
   "cell_type": "code",
   "execution_count": null,
   "metadata": {},
   "outputs": [],
   "source": []
  }
 ],
 "metadata": {
  "kernelspec": {
   "display_name": ".venv",
   "language": "python",
   "name": "python3"
  },
  "language_info": {
   "codemirror_mode": {
    "name": "ipython",
    "version": 3
   },
   "file_extension": ".py",
   "mimetype": "text/x-python",
   "name": "python",
   "nbconvert_exporter": "python",
   "pygments_lexer": "ipython3",
   "version": "3.12.1"
  }
 },
 "nbformat": 4,
 "nbformat_minor": 2
}
