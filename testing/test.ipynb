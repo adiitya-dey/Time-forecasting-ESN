{
 "cells": [
  {
   "cell_type": "code",
   "execution_count": 6,
   "metadata": {},
   "outputs": [],
   "source": [
    "import tensorflow as tf\n",
    "from einops import rearrange\n",
    "\n",
    "tf.random.set_seed(123)"
   ]
  },
  {
   "cell_type": "code",
   "execution_count": 10,
   "metadata": {},
   "outputs": [],
   "source": [
    "import pandas as pd\n",
    "import numpy as np\n",
    "import matplotlib.pyplot as plt\n",
    "\n",
    "from sklearn.preprocessing import MinMaxScaler\n",
    "from sklearn.linear_model import Ridge\n",
    "from sklearn.metrics import mean_squared_error, mean_absolute_error, mean_absolute_percentage_error\n",
    "from sklearn.model_selection import train_test_split\n",
    "from sklearn.base import BaseEstimator\n",
    "\n",
    "from einops import rearrange, repeat, reduce\n",
    "\n",
    "from darts.datasets import AirPassengersDataset"
   ]
  },
  {
   "cell_type": "code",
   "execution_count": 44,
   "metadata": {},
   "outputs": [
    {
     "ename": "TypeError",
     "evalue": "maximum() missing 1 required positional argument: 'y'",
     "output_type": "error",
     "traceback": [
      "\u001b[0;31m---------------------------------------------------------------------------\u001b[0m",
      "\u001b[0;31mTypeError\u001b[0m                                 Traceback (most recent call last)",
      "Cell \u001b[0;32mIn[44], line 3\u001b[0m\n\u001b[1;32m      1\u001b[0m W_res \u001b[38;5;241m=\u001b[39m tf\u001b[38;5;241m.\u001b[39mrandom\u001b[38;5;241m.\u001b[39mnormal((\u001b[38;5;241m10\u001b[39m, \u001b[38;5;241m10\u001b[39m))\n\u001b[1;32m      2\u001b[0m W_res \u001b[38;5;241m=\u001b[39m tf\u001b[38;5;241m.\u001b[39mwhere(tf\u001b[38;5;241m.\u001b[39mrandom\u001b[38;5;241m.\u001b[39mnormal(W_res\u001b[38;5;241m.\u001b[39mshape) \u001b[38;5;241m>\u001b[39m \u001b[38;5;241m0.5\u001b[39m, tf\u001b[38;5;241m.\u001b[39mzeros_like(W_res), W_res)\n\u001b[0;32m----> 3\u001b[0m \u001b[43mtf\u001b[49m\u001b[38;5;241;43m.\u001b[39;49m\u001b[43mmath\u001b[49m\u001b[38;5;241;43m.\u001b[39;49m\u001b[43mmaximum\u001b[49m\u001b[43m(\u001b[49m\u001b[43mW_res\u001b[49m\u001b[43m)\u001b[49m\n",
      "File \u001b[0;32m~/Documents/Time-forecasting-ESN/.venv/lib/python3.12/site-packages/tensorflow/python/ops/weak_tensor_ops.py:142\u001b[0m, in \u001b[0;36mweak_tensor_binary_op_wrapper.<locals>.wrapper\u001b[0;34m(*args, **kwargs)\u001b[0m\n\u001b[1;32m    140\u001b[0m \u001b[38;5;28;01mdef\u001b[39;00m \u001b[38;5;21mwrapper\u001b[39m(\u001b[38;5;241m*\u001b[39margs, \u001b[38;5;241m*\u001b[39m\u001b[38;5;241m*\u001b[39mkwargs):\n\u001b[1;32m    141\u001b[0m   \u001b[38;5;28;01mif\u001b[39;00m \u001b[38;5;129;01mnot\u001b[39;00m ops\u001b[38;5;241m.\u001b[39mis_auto_dtype_conversion_enabled():\n\u001b[0;32m--> 142\u001b[0m     \u001b[38;5;28;01mreturn\u001b[39;00m \u001b[43mop\u001b[49m\u001b[43m(\u001b[49m\u001b[38;5;241;43m*\u001b[39;49m\u001b[43margs\u001b[49m\u001b[43m,\u001b[49m\u001b[43m \u001b[49m\u001b[38;5;241;43m*\u001b[39;49m\u001b[38;5;241;43m*\u001b[39;49m\u001b[43mkwargs\u001b[49m\u001b[43m)\u001b[49m\n\u001b[1;32m    143\u001b[0m   bound_arguments \u001b[38;5;241m=\u001b[39m signature\u001b[38;5;241m.\u001b[39mbind(\u001b[38;5;241m*\u001b[39margs, \u001b[38;5;241m*\u001b[39m\u001b[38;5;241m*\u001b[39mkwargs)\n\u001b[1;32m    144\u001b[0m   bound_arguments\u001b[38;5;241m.\u001b[39mapply_defaults()\n",
      "\u001b[0;31mTypeError\u001b[0m: maximum() missing 1 required positional argument: 'y'"
     ]
    }
   ],
   "source": [
    "W_res = tf.random.normal((10, 10))\n",
    "W_res = tf.where(tf.random.normal(W_res.shape) > 0.5, tf.zeros_like(W_res), W_res)\n",
    "tf.math.maximum(W_res)"
   ]
  },
  {
   "cell_type": "code",
   "execution_count": 73,
   "metadata": {},
   "outputs": [],
   "source": [
    "\n",
    "class ESN(tf.keras.Model):\n",
    "    def __init__(self, reservoir_size=100, input_size=1, output_size=1,  spectral_radius=1.0, connectivity_rate=1.0, learning_rate = 0.1, epochs=1, washout=1, activation=\"tanh\"):\n",
    "        \n",
    "        super(ESN, self).__init__()\n",
    "        self.reservoir_size = reservoir_size\n",
    "        self.input_size = input_size\n",
    "        self.epochs = epochs\n",
    "        self.connectivity_rate = connectivity_rate\n",
    "        self.spectral_radius = spectral_radius\n",
    "        self.washout = washout\n",
    "        self.output_size = output_size\n",
    "        self.lr = learning_rate\n",
    "        self.activation = self.activation_fn(activation)\n",
    "\n",
    "        self.state = tf.zeros((self.reservoir_size, 1))\n",
    "        self.W_in = tf.random.uniform((self.reservoir_size, self.input_size), minval=-1, maxval=1)\n",
    "\n",
    "        self.W_out = None\n",
    "\n",
    "        ## Initializing Reservoir Weights according to \"Re-visiting the echo state property\"(2012)\n",
    "        ##\n",
    "        ## Initialize a random matrix and induce sparsity.\n",
    "        self.W_res = tf.random.normal((reservoir_size, reservoir_size))\n",
    "        self.W_res = tf.where(tf.random.normal(self.W_res.shape) > self.connectivity_rate, tf.zeros_like(self.W_res), self.W_res)\n",
    "\n",
    "\n",
    "        ## Scale the matrix based on user defined spectral radius.\n",
    "        current_spectral_radius = tf.reduce_max(tf.abs(tf.linalg.eigvals(self.W_res)))\n",
    "        self.W_res = self.W_res * (self.spectral_radius / current_spectral_radius)        \n",
    "\n",
    "        self.all_states = [self.state]\n",
    "\n",
    "    \n",
    "    @staticmethod\n",
    "    def activation_fn(x):\n",
    "         \n",
    "        activation_keys = [\"sigmoid\", \"relu\", \"tanh\"]\n",
    "\n",
    "        if x in activation_keys:\n",
    "              if x == \"tanh\":\n",
    "                   return tf.keras.activations.tanh\n",
    "              elif x == \"relu\":\n",
    "                   return tf.keras.activations.relu()\n",
    "              elif x == \"sigmoid\":\n",
    "                   return tf.keras.activations.sigmoid()\n",
    "            \n",
    "        else:\n",
    "            raise ValueError(f\"Activation {x} does not exists\")\n",
    "        \n",
    "\n",
    "    def fit(self, X_train, y_train):\n",
    "        \n",
    "\n",
    "        state_collection_matrix = tf.zeros((self.input_size + self.reservoir_size, 1))\n",
    "        # self.state = np.zeros((self.reservoir_size, 1))\n",
    "\n",
    "        ## Calculate state of reservoirs per time step\n",
    "        for i in range(X_train.shape[0]-1):\n",
    "\n",
    "            \n",
    "\n",
    "            input = rearrange(X_train[i], 'c -> c 1')\n",
    "            input_product = self.W_in@input\n",
    "            state_product = self.W_res@self.state\n",
    "            self.state = self.activation(input_product + state_product)\n",
    "            state_collection_matrix= tf.hstack((state_collection_matrix, tf.concat((self.state, input))))\n",
    "\n",
    "            self.all_states.append(self.state)\n",
    "\n",
    "        ## Update W_out\n",
    "        mat1 = state_collection_matrix.T[self.washout:,:]\n",
    "        self.W_out = tf.linalg.lstsq(matrix=mat1, rhs=y_train[self.washout:,:])\n",
    "\n",
    "        \n",
    "        \n",
    "    def predict(self, X_test):\n",
    "            prediction = tf.zeros((self.output_size,1))\n",
    "            for i in range(X_test.shape[0]- 1):\n",
    "                input = X_test[i].reshape(-1,1)\n",
    "                print(input.shape)\n",
    "                input_product = self.W_in@input\n",
    "                state_product = self.W_res@self.state\n",
    "                self.state = self.activation(input_product + state_product)\n",
    "                concat_matrix= np.concatenate((self.state, input))\n",
    "                pred =  self.W_out@concat_matrix\n",
    "                prediction = np.hstack([prediction, pred])\n",
    "\n",
    "                self.all_states.append(self.state)\n",
    "            \n",
    "            prediction = rearrange(prediction, 'c r -> r c')\n",
    "            if self.output_size == self.input_size:\n",
    "                return prediction[1:,:]\n",
    "            else:\n",
    "                return prediction"
   ]
  },
  {
   "cell_type": "code",
   "execution_count": 74,
   "metadata": {},
   "outputs": [],
   "source": [
    "time_series = AirPassengersDataset().load()\n",
    "X = time_series.values()\n",
    "X_train, X_test = train_test_split(X, test_size=0.2, shuffle=False)\n",
    "\n",
    "sc = MinMaxScaler()\n",
    "X_train_std = sc.fit_transform(X_train)\n",
    "X_test_std = sc.transform(X_test)"
   ]
  },
  {
   "cell_type": "code",
   "execution_count": 75,
   "metadata": {},
   "outputs": [],
   "source": [
    "X_train_std = tf.convert_to_tensor(X_train_std)\n",
    "X_test_std = tf.convert_to_tensor(X_test_std)"
   ]
  },
  {
   "cell_type": "code",
   "execution_count": 76,
   "metadata": {},
   "outputs": [],
   "source": [
    "esn = ESN(reservoir_size=20, input_size=1, output_size=1, spectral_radius=0.7, connectivity_rate=0.8, washout=1)"
   ]
  },
  {
   "cell_type": "code",
   "execution_count": 77,
   "metadata": {},
   "outputs": [
    {
     "ename": "InvalidArgumentError",
     "evalue": "cannot compute MatMul as input #1(zero-based) was expected to be a float tensor but is a double tensor [Op:MatMul] name: ",
     "output_type": "error",
     "traceback": [
      "\u001b[0;31m---------------------------------------------------------------------------\u001b[0m",
      "\u001b[0;31mInvalidArgumentError\u001b[0m                      Traceback (most recent call last)",
      "Cell \u001b[0;32mIn[77], line 1\u001b[0m\n\u001b[0;32m----> 1\u001b[0m \u001b[43mesn\u001b[49m\u001b[38;5;241;43m.\u001b[39;49m\u001b[43mfit\u001b[49m\u001b[43m(\u001b[49m\u001b[43mX_train_std\u001b[49m\u001b[43m,\u001b[49m\u001b[43m \u001b[49m\u001b[43mX_train_std\u001b[49m\u001b[43m)\u001b[49m\n",
      "Cell \u001b[0;32mIn[73], line 63\u001b[0m, in \u001b[0;36mESN.fit\u001b[0;34m(self, X_train, y_train)\u001b[0m\n\u001b[1;32m     58\u001b[0m \u001b[38;5;28;01mfor\u001b[39;00m i \u001b[38;5;129;01min\u001b[39;00m \u001b[38;5;28mrange\u001b[39m(X_train\u001b[38;5;241m.\u001b[39mshape[\u001b[38;5;241m0\u001b[39m]\u001b[38;5;241m-\u001b[39m\u001b[38;5;241m1\u001b[39m):\n\u001b[1;32m     62\u001b[0m     \u001b[38;5;28minput\u001b[39m \u001b[38;5;241m=\u001b[39m rearrange(X_train[i], \u001b[38;5;124m'\u001b[39m\u001b[38;5;124mc -> c 1\u001b[39m\u001b[38;5;124m'\u001b[39m)\n\u001b[0;32m---> 63\u001b[0m     input_product \u001b[38;5;241m=\u001b[39m \u001b[38;5;28;43mself\u001b[39;49m\u001b[38;5;241;43m.\u001b[39;49m\u001b[43mW_in\u001b[49m\u001b[38;5;129;43m@input\u001b[39;49m\n\u001b[1;32m     64\u001b[0m     state_product \u001b[38;5;241m=\u001b[39m \u001b[38;5;28mself\u001b[39m\u001b[38;5;241m.\u001b[39mW_res\u001b[38;5;129m@self\u001b[39m\u001b[38;5;241m.\u001b[39mstate\n\u001b[1;32m     65\u001b[0m     \u001b[38;5;28mself\u001b[39m\u001b[38;5;241m.\u001b[39mstate \u001b[38;5;241m=\u001b[39m \u001b[38;5;28mself\u001b[39m\u001b[38;5;241m.\u001b[39mactivation(input_product \u001b[38;5;241m+\u001b[39m state_product)\n",
      "File \u001b[0;32m~/Documents/Time-forecasting-ESN/.venv/lib/python3.12/site-packages/tensorflow/python/util/traceback_utils.py:153\u001b[0m, in \u001b[0;36mfilter_traceback.<locals>.error_handler\u001b[0;34m(*args, **kwargs)\u001b[0m\n\u001b[1;32m    151\u001b[0m \u001b[38;5;28;01mexcept\u001b[39;00m \u001b[38;5;167;01mException\u001b[39;00m \u001b[38;5;28;01mas\u001b[39;00m e:\n\u001b[1;32m    152\u001b[0m   filtered_tb \u001b[38;5;241m=\u001b[39m _process_traceback_frames(e\u001b[38;5;241m.\u001b[39m__traceback__)\n\u001b[0;32m--> 153\u001b[0m   \u001b[38;5;28;01mraise\u001b[39;00m e\u001b[38;5;241m.\u001b[39mwith_traceback(filtered_tb) \u001b[38;5;28;01mfrom\u001b[39;00m \u001b[38;5;28;01mNone\u001b[39;00m\n\u001b[1;32m    154\u001b[0m \u001b[38;5;28;01mfinally\u001b[39;00m:\n\u001b[1;32m    155\u001b[0m   \u001b[38;5;28;01mdel\u001b[39;00m filtered_tb\n",
      "File \u001b[0;32m~/Documents/Time-forecasting-ESN/.venv/lib/python3.12/site-packages/tensorflow/python/framework/ops.py:5983\u001b[0m, in \u001b[0;36mraise_from_not_ok_status\u001b[0;34m(e, name)\u001b[0m\n\u001b[1;32m   5981\u001b[0m \u001b[38;5;28;01mdef\u001b[39;00m \u001b[38;5;21mraise_from_not_ok_status\u001b[39m(e, name) \u001b[38;5;241m-\u001b[39m\u001b[38;5;241m>\u001b[39m NoReturn:\n\u001b[1;32m   5982\u001b[0m   e\u001b[38;5;241m.\u001b[39mmessage \u001b[38;5;241m+\u001b[39m\u001b[38;5;241m=\u001b[39m (\u001b[38;5;124m\"\u001b[39m\u001b[38;5;124m name: \u001b[39m\u001b[38;5;124m\"\u001b[39m \u001b[38;5;241m+\u001b[39m \u001b[38;5;28mstr\u001b[39m(name \u001b[38;5;28;01mif\u001b[39;00m name \u001b[38;5;129;01mis\u001b[39;00m \u001b[38;5;129;01mnot\u001b[39;00m \u001b[38;5;28;01mNone\u001b[39;00m \u001b[38;5;28;01melse\u001b[39;00m \u001b[38;5;124m\"\u001b[39m\u001b[38;5;124m\"\u001b[39m))\n\u001b[0;32m-> 5983\u001b[0m   \u001b[38;5;28;01mraise\u001b[39;00m core\u001b[38;5;241m.\u001b[39m_status_to_exception(e) \u001b[38;5;28;01mfrom\u001b[39;00m \u001b[38;5;28;01mNone\u001b[39;00m\n",
      "\u001b[0;31mInvalidArgumentError\u001b[0m: cannot compute MatMul as input #1(zero-based) was expected to be a float tensor but is a double tensor [Op:MatMul] name: "
     ]
    }
   ],
   "source": [
    "esn.fit(X_train_std, X_train_std)"
   ]
  },
  {
   "cell_type": "code",
   "execution_count": null,
   "metadata": {},
   "outputs": [],
   "source": []
  }
 ],
 "metadata": {
  "kernelspec": {
   "display_name": ".venv",
   "language": "python",
   "name": "python3"
  },
  "language_info": {
   "codemirror_mode": {
    "name": "ipython",
    "version": 3
   },
   "file_extension": ".py",
   "mimetype": "text/x-python",
   "name": "python",
   "nbconvert_exporter": "python",
   "pygments_lexer": "ipython3",
   "version": "3.12.1"
  }
 },
 "nbformat": 4,
 "nbformat_minor": 2
}
