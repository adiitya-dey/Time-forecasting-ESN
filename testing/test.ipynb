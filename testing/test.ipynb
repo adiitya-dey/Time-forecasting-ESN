{
 "cells": [
  {
   "cell_type": "code",
   "execution_count": 29,
   "metadata": {},
   "outputs": [],
   "source": [
    "import torch\n",
    "import torch.nn as nn"
   ]
  },
  {
   "cell_type": "code",
   "execution_count": 11,
   "metadata": {},
   "outputs": [],
   "source": [
    "import pandas as pd\n",
    "import numpy as np\n",
    "import matplotlib.pyplot as plt\n",
    "\n",
    "from sklearn.preprocessing import MinMaxScaler\n",
    "from sklearn.linear_model import Ridge\n",
    "from sklearn.metrics import mean_squared_error, mean_absolute_error, mean_absolute_percentage_error\n",
    "from sklearn.model_selection import train_test_split\n",
    "from sklearn.base import BaseEstimator\n",
    "\n",
    "from einops import rearrange, repeat, reduce\n",
    "\n",
    "from darts.datasets import AirPassengersDataset"
   ]
  },
  {
   "cell_type": "code",
   "execution_count": 12,
   "metadata": {},
   "outputs": [],
   "source": [
    "abc = np.random.rand(4,1,1)"
   ]
  },
  {
   "cell_type": "code",
   "execution_count": 13,
   "metadata": {},
   "outputs": [
    {
     "data": {
      "text/plain": [
       "array([[[0.73018325]],\n",
       "\n",
       "       [[0.56910205]],\n",
       "\n",
       "       [[0.94644541]],\n",
       "\n",
       "       [[0.90381443]]])"
      ]
     },
     "execution_count": 13,
     "metadata": {},
     "output_type": "execute_result"
    }
   ],
   "source": [
    "abc"
   ]
  },
  {
   "cell_type": "code",
   "execution_count": 14,
   "metadata": {},
   "outputs": [
    {
     "data": {
      "text/plain": [
       "(1, 1)"
      ]
     },
     "execution_count": 14,
     "metadata": {},
     "output_type": "execute_result"
    }
   ],
   "source": [
    "abc[1].shape"
   ]
  },
  {
   "cell_type": "code",
   "execution_count": 15,
   "metadata": {},
   "outputs": [
    {
     "data": {
      "text/plain": [
       "(4, 1, 1)"
      ]
     },
     "execution_count": 15,
     "metadata": {},
     "output_type": "execute_result"
    }
   ],
   "source": [
    "abc.shape"
   ]
  },
  {
   "cell_type": "code",
   "execution_count": 18,
   "metadata": {},
   "outputs": [],
   "source": [
    "# List of tensors\n",
    "tensor_list = [torch.randn(3, 4), torch.randn(3, 4), torch.randn(3, 4)]\n",
    "\n",
    "# Convert list of tensors to a single tensor using torch.stack\n",
    "stacked_tensor = torch.stack(tensor_list, dim=1)"
   ]
  },
  {
   "cell_type": "code",
   "execution_count": 19,
   "metadata": {},
   "outputs": [
    {
     "data": {
      "text/plain": [
       "tensor([[[-1.5104,  1.3448,  0.1017, -0.2000],\n",
       "         [ 0.5491, -1.0699,  0.9874,  0.3279],\n",
       "         [ 0.9167, -1.8975, -0.3729,  0.7786]],\n",
       "\n",
       "        [[ 3.4593, -0.8323, -0.1711,  0.0885],\n",
       "         [ 1.0751,  2.0139, -1.3565, -0.0302],\n",
       "         [-0.6259,  0.2220,  1.3950,  0.7904]],\n",
       "\n",
       "        [[ 1.1181, -1.5235,  0.9631,  0.1366],\n",
       "         [ 1.5289, -0.3659,  0.9838,  0.8275],\n",
       "         [-1.2917, -1.9094, -1.0863, -1.9231]]])"
      ]
     },
     "execution_count": 19,
     "metadata": {},
     "output_type": "execute_result"
    }
   ],
   "source": [
    "stacked_tensor"
   ]
  },
  {
   "cell_type": "code",
   "execution_count": 26,
   "metadata": {},
   "outputs": [
    {
     "name": "stdout",
     "output_type": "stream",
     "text": [
      "W * X:\n",
      "[[19 22]\n",
      " [43 50]]\n",
      "\n",
      "X * W^T:\n",
      "[[26 30]\n",
      " [38 44]]\n"
     ]
    }
   ],
   "source": [
    "import numpy as np\n",
    "\n",
    "# Define matrices W and X\n",
    "W = np.array([[1, 2],\n",
    "              [3, 4]])\n",
    "\n",
    "X = np.array([[5, 6],\n",
    "              [7, 8]])\n",
    "\n",
    "# Matrix multiplication W * X\n",
    "W_times_X = np.dot(W, X)\n",
    "\n",
    "# Matrix multiplication X * W^T\n",
    "X_times_W_transpose = W.T@X\n",
    "\n",
    "print(\"W * X:\")\n",
    "print(W_times_X)\n",
    "print(\"\\nX * W^T:\")\n",
    "print(X_times_W_transpose)\n"
   ]
  },
  {
   "cell_type": "code",
   "execution_count": 36,
   "metadata": {},
   "outputs": [
    {
     "data": {
      "text/plain": [
       "tensor([[-0.5889, -0.9657,  0.8762, -0.9311, -0.8791,  0.2524, -0.0533,  0.2300,\n",
       "         -0.8445,  0.5449, -0.0423,  0.1963, -0.6934,  0.7806, -0.7166,  0.2464,\n",
       "         -0.4169, -0.2981, -0.8897,  0.9948,  0.6422,  0.6820,  0.2948, -0.9628,\n",
       "          0.1384,  0.5283,  0.6956,  0.6767,  0.6397,  0.6770,  0.3466, -0.5976,\n",
       "         -0.5648,  0.3531]])"
      ]
     },
     "execution_count": 36,
     "metadata": {},
     "output_type": "execute_result"
    }
   ],
   "source": [
    "abc = torch.rand(1,34) * 2 -1\n",
    "abc"
   ]
  },
  {
   "cell_type": "code",
   "execution_count": 37,
   "metadata": {},
   "outputs": [
    {
     "data": {
      "text/plain": [
       "tensor([[0.0000, 0.0000, 0.8762, 0.0000, 0.0000, 0.2524, 0.0000, 0.2300, 0.0000,\n",
       "         0.5449, 0.0000, 0.1963, 0.0000, 0.7806, 0.0000, 0.2464, 0.0000, 0.0000,\n",
       "         0.0000, 0.9948, 0.6422, 0.6820, 0.2948, 0.0000, 0.1384, 0.5283, 0.6956,\n",
       "         0.6767, 0.6397, 0.6770, 0.3466, 0.0000, 0.0000, 0.3531]])"
      ]
     },
     "execution_count": 37,
     "metadata": {},
     "output_type": "execute_result"
    }
   ],
   "source": [
    "m = nn.ReLU()\n",
    "m(abc)"
   ]
  },
  {
   "cell_type": "code",
   "execution_count": null,
   "metadata": {},
   "outputs": [],
   "source": []
  }
 ],
 "metadata": {
  "kernelspec": {
   "display_name": ".venv",
   "language": "python",
   "name": "python3"
  },
  "language_info": {
   "codemirror_mode": {
    "name": "ipython",
    "version": 3
   },
   "file_extension": ".py",
   "mimetype": "text/x-python",
   "name": "python",
   "nbconvert_exporter": "python",
   "pygments_lexer": "ipython3",
   "version": "3.10.12"
  }
 },
 "nbformat": 4,
 "nbformat_minor": 2
}
