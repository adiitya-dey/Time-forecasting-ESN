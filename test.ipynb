{
 "cells": [
  {
   "cell_type": "code",
   "execution_count": 1,
   "metadata": {},
   "outputs": [],
   "source": [
    "import torch\n",
    "import torch.nn as nn"
   ]
  },
  {
   "cell_type": "code",
   "execution_count": 2,
   "metadata": {},
   "outputs": [],
   "source": [
    "import pandas as pd\n",
    "import numpy as np\n",
    "import matplotlib.pyplot as plt\n",
    "\n",
    "from sklearn.preprocessing import MinMaxScaler\n",
    "from sklearn.linear_model import Ridge\n",
    "from sklearn.metrics import mean_squared_error, mean_absolute_error, mean_absolute_percentage_error\n",
    "from sklearn.model_selection import train_test_split\n",
    "from sklearn.base import BaseEstimator\n",
    "\n",
    "from einops import rearrange, repeat, reduce\n",
    "\n",
    "from darts.datasets import AirPassengersDataset"
   ]
  },
  {
   "cell_type": "markdown",
   "metadata": {},
   "source": []
  },
  {
   "cell_type": "code",
   "execution_count": 4,
   "metadata": {},
   "outputs": [
    {
     "data": {
      "text/plain": [
       "tensor([[[0.4556, 0.0315],\n",
       "         [0.1812, 0.9925],\n",
       "         [0.9449, 0.0219],\n",
       "         [0.1813, 0.3992],\n",
       "         [0.3577, 0.4373],\n",
       "         [0.4230, 0.7841]],\n",
       "\n",
       "        [[0.0889, 0.5159],\n",
       "         [0.5565, 0.2273],\n",
       "         [0.2932, 0.3841],\n",
       "         [0.2581, 0.4089],\n",
       "         [0.9198, 0.3284],\n",
       "         [0.6842, 0.0292]],\n",
       "\n",
       "        [[0.4649, 0.4930],\n",
       "         [0.9509, 0.1112],\n",
       "         [0.0089, 0.8446],\n",
       "         [0.7974, 0.9962],\n",
       "         [0.6688, 0.1355],\n",
       "         [0.6212, 0.1008]],\n",
       "\n",
       "        [[0.3741, 0.4364],\n",
       "         [0.7666, 0.7183],\n",
       "         [0.9645, 0.3798],\n",
       "         [0.8115, 0.5730],\n",
       "         [0.0918, 0.5650],\n",
       "         [0.1987, 0.0434]],\n",
       "\n",
       "        [[0.5968, 0.5142],\n",
       "         [0.8856, 0.1622],\n",
       "         [0.1595, 0.9025],\n",
       "         [0.7715, 0.4033],\n",
       "         [0.9149, 0.0400],\n",
       "         [0.8165, 0.4233]]])"
      ]
     },
     "execution_count": 4,
     "metadata": {},
     "output_type": "execute_result"
    }
   ],
   "source": [
    "abc = torch.rand(5, 6, 2)\n",
    "abc"
   ]
  },
  {
   "cell_type": "code",
   "execution_count": 7,
   "metadata": {},
   "outputs": [
    {
     "data": {
      "text/plain": [
       "tensor([[[0.4556, 0.1812, 0.9449, 0.1813, 0.3577, 0.4230],\n",
       "         [0.0315, 0.9925, 0.0219, 0.3992, 0.4373, 0.7841]],\n",
       "\n",
       "        [[0.0889, 0.5565, 0.2932, 0.2581, 0.9198, 0.6842],\n",
       "         [0.5159, 0.2273, 0.3841, 0.4089, 0.3284, 0.0292]],\n",
       "\n",
       "        [[0.4649, 0.9509, 0.0089, 0.7974, 0.6688, 0.6212],\n",
       "         [0.4930, 0.1112, 0.8446, 0.9962, 0.1355, 0.1008]],\n",
       "\n",
       "        [[0.3741, 0.7666, 0.9645, 0.8115, 0.0918, 0.1987],\n",
       "         [0.4364, 0.7183, 0.3798, 0.5730, 0.5650, 0.0434]],\n",
       "\n",
       "        [[0.5968, 0.8856, 0.1595, 0.7715, 0.9149, 0.8165],\n",
       "         [0.5142, 0.1622, 0.9025, 0.4033, 0.0400, 0.4233]]])"
      ]
     },
     "execution_count": 7,
     "metadata": {},
     "output_type": "execute_result"
    }
   ],
   "source": [
    "input = abc.permute(0,2,1)\n",
    "input"
   ]
  },
  {
   "cell_type": "code",
   "execution_count": 10,
   "metadata": {},
   "outputs": [
    {
     "data": {
      "text/plain": [
       "tensor([[[[0.4556, 0.1812, 0.9449],\n",
       "          [0.1813, 0.3577, 0.4230]],\n",
       "\n",
       "         [[0.0315, 0.9925, 0.0219],\n",
       "          [0.3992, 0.4373, 0.7841]]],\n",
       "\n",
       "\n",
       "        [[[0.0889, 0.5565, 0.2932],\n",
       "          [0.2581, 0.9198, 0.6842]],\n",
       "\n",
       "         [[0.5159, 0.2273, 0.3841],\n",
       "          [0.4089, 0.3284, 0.0292]]],\n",
       "\n",
       "\n",
       "        [[[0.4649, 0.9509, 0.0089],\n",
       "          [0.7974, 0.6688, 0.6212]],\n",
       "\n",
       "         [[0.4930, 0.1112, 0.8446],\n",
       "          [0.9962, 0.1355, 0.1008]]],\n",
       "\n",
       "\n",
       "        [[[0.3741, 0.7666, 0.9645],\n",
       "          [0.8115, 0.0918, 0.1987]],\n",
       "\n",
       "         [[0.4364, 0.7183, 0.3798],\n",
       "          [0.5730, 0.5650, 0.0434]]],\n",
       "\n",
       "\n",
       "        [[[0.5968, 0.8856, 0.1595],\n",
       "          [0.7715, 0.9149, 0.8165]],\n",
       "\n",
       "         [[0.5142, 0.1622, 0.9025],\n",
       "          [0.4033, 0.0400, 0.4233]]]])"
      ]
     },
     "execution_count": 10,
     "metadata": {},
     "output_type": "execute_result"
    }
   ],
   "source": [
    "batch, channel, seq_len = input.shape\n",
    "segments = seq_len // 3\n",
    "input1 = input.view(batch, channel, segments, 3)\n",
    "input1"
   ]
  },
  {
   "cell_type": "code",
   "execution_count": 11,
   "metadata": {},
   "outputs": [
    {
     "data": {
      "text/plain": [
       "tensor([[[0.0315, 0.9925, 0.0219],\n",
       "         [0.3992, 0.4373, 0.7841]],\n",
       "\n",
       "        [[0.5159, 0.2273, 0.3841],\n",
       "         [0.4089, 0.3284, 0.0292]],\n",
       "\n",
       "        [[0.4930, 0.1112, 0.8446],\n",
       "         [0.9962, 0.1355, 0.1008]],\n",
       "\n",
       "        [[0.4364, 0.7183, 0.3798],\n",
       "         [0.5730, 0.5650, 0.0434]],\n",
       "\n",
       "        [[0.5142, 0.1622, 0.9025],\n",
       "         [0.4033, 0.0400, 0.4233]]])"
      ]
     },
     "execution_count": 11,
     "metadata": {},
     "output_type": "execute_result"
    }
   ],
   "source": [
    "channel_input1 = input1[:,1,:,:]\n",
    "channel_input1"
   ]
  },
  {
   "cell_type": "code",
   "execution_count": 17,
   "metadata": {},
   "outputs": [
    {
     "data": {
      "text/plain": [
       "torch.Size([5, 2, 3])"
      ]
     },
     "execution_count": 17,
     "metadata": {},
     "output_type": "execute_result"
    }
   ],
   "source": [
    "linear = nn.Linear(in_features=3, out_features=3, bias=False)\n",
    "linear.weight = nn.Parameter(nn.init.orthogonal_(linear.weight))\n",
    "out = linear(channel_input1)\n",
    "out.shape"
   ]
  },
  {
   "cell_type": "code",
   "execution_count": 18,
   "metadata": {},
   "outputs": [
    {
     "name": "stdout",
     "output_type": "stream",
     "text": [
      "torch.Size([10, 1, 5, 21])\n"
     ]
    },
    {
     "data": {
      "text/plain": [
       "torch.Size([10, 5, 21])"
      ]
     },
     "execution_count": 18,
     "metadata": {},
     "output_type": "execute_result"
    }
   ],
   "source": [
    "w33 = torch.rand(10,1, 5,21)\n",
    "print(w33.shape)\n",
    "w33.squeeze(1).shape\n"
   ]
  },
  {
   "cell_type": "code",
   "execution_count": null,
   "metadata": {},
   "outputs": [],
   "source": []
  },
  {
   "cell_type": "code",
   "execution_count": null,
   "metadata": {},
   "outputs": [],
   "source": []
  },
  {
   "cell_type": "code",
   "execution_count": null,
   "metadata": {},
   "outputs": [],
   "source": []
  },
  {
   "cell_type": "code",
   "execution_count": null,
   "metadata": {},
   "outputs": [],
   "source": []
  },
  {
   "cell_type": "code",
   "execution_count": null,
   "metadata": {},
   "outputs": [],
   "source": []
  },
  {
   "cell_type": "code",
   "execution_count": null,
   "metadata": {},
   "outputs": [],
   "source": []
  }
 ],
 "metadata": {
  "kernelspec": {
   "display_name": ".venv",
   "language": "python",
   "name": "python3"
  },
  "language_info": {
   "codemirror_mode": {
    "name": "ipython",
    "version": 3
   },
   "file_extension": ".py",
   "mimetype": "text/x-python",
   "name": "python",
   "nbconvert_exporter": "python",
   "pygments_lexer": "ipython3",
   "version": "3.10.12"
  }
 },
 "nbformat": 4,
 "nbformat_minor": 2
}
