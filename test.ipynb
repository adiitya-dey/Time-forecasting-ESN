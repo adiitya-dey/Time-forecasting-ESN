{
 "cells": [
  {
   "cell_type": "code",
   "execution_count": 19,
   "metadata": {},
   "outputs": [],
   "source": [
    "import torch\n",
    "import torch.nn as nn"
   ]
  },
  {
   "cell_type": "code",
   "execution_count": 20,
   "metadata": {},
   "outputs": [],
   "source": [
    "import pandas as pd\n",
    "import numpy as np\n",
    "import matplotlib.pyplot as plt\n",
    "\n",
    "from sklearn.preprocessing import MinMaxScaler\n",
    "from sklearn.linear_model import Ridge\n",
    "from sklearn.metrics import mean_squared_error, mean_absolute_error, mean_absolute_percentage_error\n",
    "from sklearn.model_selection import train_test_split\n",
    "from sklearn.base import BaseEstimator\n",
    "\n",
    "from einops import rearrange, repeat, reduce\n",
    "\n",
    "from darts.datasets import AirPassengersDataset"
   ]
  },
  {
   "cell_type": "markdown",
   "metadata": {},
   "source": []
  },
  {
   "cell_type": "code",
   "execution_count": 21,
   "metadata": {},
   "outputs": [
    {
     "data": {
      "text/plain": [
       "tensor([[[0.6502, 0.3705],\n",
       "         [0.6517, 0.7299],\n",
       "         [0.5901, 0.7478],\n",
       "         [0.9050, 0.5970],\n",
       "         [0.7686, 0.0793],\n",
       "         [0.0625, 0.6381]],\n",
       "\n",
       "        [[0.0045, 0.3661],\n",
       "         [0.5866, 0.2329],\n",
       "         [0.0878, 0.5366],\n",
       "         [0.0215, 0.4228],\n",
       "         [0.5738, 0.6753],\n",
       "         [0.2018, 0.4452]],\n",
       "\n",
       "        [[0.6987, 0.7413],\n",
       "         [0.5910, 0.9420],\n",
       "         [0.5545, 0.3177],\n",
       "         [0.1659, 0.9551],\n",
       "         [0.3505, 0.1483],\n",
       "         [0.2049, 0.5989]],\n",
       "\n",
       "        [[0.8580, 0.6703],\n",
       "         [0.4122, 0.4105],\n",
       "         [0.1906, 0.5165],\n",
       "         [0.3777, 0.3244],\n",
       "         [0.1858, 0.0507],\n",
       "         [0.6930, 0.0928]],\n",
       "\n",
       "        [[0.8017, 0.5512],\n",
       "         [0.4507, 0.2722],\n",
       "         [0.1689, 0.7476],\n",
       "         [0.8358, 0.7434],\n",
       "         [0.6004, 0.5159],\n",
       "         [0.9699, 0.2660]]])"
      ]
     },
     "execution_count": 21,
     "metadata": {},
     "output_type": "execute_result"
    }
   ],
   "source": [
    "abc = torch.rand(5, 6, 2)\n",
    "abc"
   ]
  },
  {
   "cell_type": "code",
   "execution_count": 22,
   "metadata": {},
   "outputs": [
    {
     "data": {
      "text/plain": [
       "tensor([[[0.6502, 0.6517, 0.5901, 0.9050, 0.7686, 0.0625],\n",
       "         [0.3705, 0.7299, 0.7478, 0.5970, 0.0793, 0.6381]],\n",
       "\n",
       "        [[0.0045, 0.5866, 0.0878, 0.0215, 0.5738, 0.2018],\n",
       "         [0.3661, 0.2329, 0.5366, 0.4228, 0.6753, 0.4452]],\n",
       "\n",
       "        [[0.6987, 0.5910, 0.5545, 0.1659, 0.3505, 0.2049],\n",
       "         [0.7413, 0.9420, 0.3177, 0.9551, 0.1483, 0.5989]],\n",
       "\n",
       "        [[0.8580, 0.4122, 0.1906, 0.3777, 0.1858, 0.6930],\n",
       "         [0.6703, 0.4105, 0.5165, 0.3244, 0.0507, 0.0928]],\n",
       "\n",
       "        [[0.8017, 0.4507, 0.1689, 0.8358, 0.6004, 0.9699],\n",
       "         [0.5512, 0.2722, 0.7476, 0.7434, 0.5159, 0.2660]]])"
      ]
     },
     "execution_count": 22,
     "metadata": {},
     "output_type": "execute_result"
    }
   ],
   "source": [
    "input = abc.permute(0,2,1)\n",
    "input"
   ]
  },
  {
   "cell_type": "code",
   "execution_count": 23,
   "metadata": {},
   "outputs": [
    {
     "data": {
      "text/plain": [
       "tensor([[[[0.6502, 0.6517, 0.5901],\n",
       "          [0.9050, 0.7686, 0.0625]],\n",
       "\n",
       "         [[0.3705, 0.7299, 0.7478],\n",
       "          [0.5970, 0.0793, 0.6381]]],\n",
       "\n",
       "\n",
       "        [[[0.0045, 0.5866, 0.0878],\n",
       "          [0.0215, 0.5738, 0.2018]],\n",
       "\n",
       "         [[0.3661, 0.2329, 0.5366],\n",
       "          [0.4228, 0.6753, 0.4452]]],\n",
       "\n",
       "\n",
       "        [[[0.6987, 0.5910, 0.5545],\n",
       "          [0.1659, 0.3505, 0.2049]],\n",
       "\n",
       "         [[0.7413, 0.9420, 0.3177],\n",
       "          [0.9551, 0.1483, 0.5989]]],\n",
       "\n",
       "\n",
       "        [[[0.8580, 0.4122, 0.1906],\n",
       "          [0.3777, 0.1858, 0.6930]],\n",
       "\n",
       "         [[0.6703, 0.4105, 0.5165],\n",
       "          [0.3244, 0.0507, 0.0928]]],\n",
       "\n",
       "\n",
       "        [[[0.8017, 0.4507, 0.1689],\n",
       "          [0.8358, 0.6004, 0.9699]],\n",
       "\n",
       "         [[0.5512, 0.2722, 0.7476],\n",
       "          [0.7434, 0.5159, 0.2660]]]])"
      ]
     },
     "execution_count": 23,
     "metadata": {},
     "output_type": "execute_result"
    }
   ],
   "source": [
    "batch, channel, seq_len = input.shape\n",
    "segments = seq_len // 3\n",
    "input1 = input.view(batch, channel, segments, 3)\n",
    "input1"
   ]
  },
  {
   "cell_type": "code",
   "execution_count": 24,
   "metadata": {},
   "outputs": [
    {
     "data": {
      "text/plain": [
       "tensor([[[0.3705, 0.7299, 0.7478],\n",
       "         [0.5970, 0.0793, 0.6381]],\n",
       "\n",
       "        [[0.3661, 0.2329, 0.5366],\n",
       "         [0.4228, 0.6753, 0.4452]],\n",
       "\n",
       "        [[0.7413, 0.9420, 0.3177],\n",
       "         [0.9551, 0.1483, 0.5989]],\n",
       "\n",
       "        [[0.6703, 0.4105, 0.5165],\n",
       "         [0.3244, 0.0507, 0.0928]],\n",
       "\n",
       "        [[0.5512, 0.2722, 0.7476],\n",
       "         [0.7434, 0.5159, 0.2660]]])"
      ]
     },
     "execution_count": 24,
     "metadata": {},
     "output_type": "execute_result"
    }
   ],
   "source": [
    "channel_input1 = input1[:,1,:,:]\n",
    "channel_input1"
   ]
  },
  {
   "cell_type": "code",
   "execution_count": 44,
   "metadata": {},
   "outputs": [
    {
     "ename": "TypeError",
     "evalue": "Linear.__init__() got an unexpected keyword argument 'requires_grad_'",
     "output_type": "error",
     "traceback": [
      "\u001b[0;31m---------------------------------------------------------------------------\u001b[0m",
      "\u001b[0;31mTypeError\u001b[0m                                 Traceback (most recent call last)",
      "Cell \u001b[0;32mIn[44], line 1\u001b[0m\n\u001b[0;32m----> 1\u001b[0m linear \u001b[38;5;241m=\u001b[39m \u001b[43mnn\u001b[49m\u001b[38;5;241;43m.\u001b[39;49m\u001b[43mLinear\u001b[49m\u001b[43m(\u001b[49m\u001b[43min_features\u001b[49m\u001b[38;5;241;43m=\u001b[39;49m\u001b[38;5;241;43m3\u001b[39;49m\u001b[43m,\u001b[49m\u001b[43m \u001b[49m\u001b[43mout_features\u001b[49m\u001b[38;5;241;43m=\u001b[39;49m\u001b[38;5;241;43m3\u001b[39;49m\u001b[43m,\u001b[49m\u001b[43m \u001b[49m\u001b[43mbias\u001b[49m\u001b[38;5;241;43m=\u001b[39;49m\u001b[38;5;28;43;01mFalse\u001b[39;49;00m\u001b[43m,\u001b[49m\u001b[43m \u001b[49m\u001b[43mrequires_grad_\u001b[49m\u001b[43m \u001b[49m\u001b[38;5;241;43m=\u001b[39;49m\u001b[43m \u001b[49m\u001b[38;5;28;43;01mFalse\u001b[39;49;00m\u001b[43m)\u001b[49m\n\u001b[1;32m      2\u001b[0m linear\u001b[38;5;241m.\u001b[39mweight \u001b[38;5;241m=\u001b[39m nn\u001b[38;5;241m.\u001b[39mParameter(nn\u001b[38;5;241m.\u001b[39minit\u001b[38;5;241m.\u001b[39morthogonal_(linear\u001b[38;5;241m.\u001b[39mweight))\n\u001b[1;32m      3\u001b[0m out \u001b[38;5;241m=\u001b[39m linear(channel_input1)\n",
      "\u001b[0;31mTypeError\u001b[0m: Linear.__init__() got an unexpected keyword argument 'requires_grad_'"
     ]
    }
   ],
   "source": [
    "linear = nn.Linear(in_features=3, out_features=3, bias=False)\n",
    "linear.weight = nn.Parameter(nn.init.orthogonal_(linear.weight))\n",
    "out = linear(channel_input1)\n",
    "out.shape"
   ]
  },
  {
   "cell_type": "code",
   "execution_count": 26,
   "metadata": {},
   "outputs": [
    {
     "name": "stdout",
     "output_type": "stream",
     "text": [
      "torch.Size([10, 1, 5, 21])\n"
     ]
    },
    {
     "data": {
      "text/plain": [
       "torch.Size([10, 5, 21])"
      ]
     },
     "execution_count": 26,
     "metadata": {},
     "output_type": "execute_result"
    }
   ],
   "source": [
    "w33 = torch.rand(10,1, 5,21)\n",
    "print(w33.shape)\n",
    "w33.squeeze(1).shape\n"
   ]
  },
  {
   "cell_type": "code",
   "execution_count": 40,
   "metadata": {},
   "outputs": [
    {
     "data": {
      "text/plain": [
       "tensor([[0.6887, 0.0848, 0.9919, 0.6378, 0.7851, 0.3636],\n",
       "        [0.4303, 0.0417, 0.3417, 0.7909, 0.7361, 0.9721],\n",
       "        [0.4405, 0.7878, 0.5268, 0.0902, 0.6004, 0.7472],\n",
       "        [0.8127, 0.8428, 0.4446, 0.0099, 0.4628, 0.9326],\n",
       "        [0.1924, 0.1868, 0.9922, 0.1819, 0.6936, 0.1372]])"
      ]
     },
     "execution_count": 40,
     "metadata": {},
     "output_type": "execute_result"
    }
   ],
   "source": [
    "w34 = torch.rand(5, 6)\n",
    "w34"
   ]
  },
  {
   "cell_type": "code",
   "execution_count": 41,
   "metadata": {},
   "outputs": [
    {
     "name": "stdout",
     "output_type": "stream",
     "text": [
      "torch.Size([5, 1, 6])\n"
     ]
    },
    {
     "data": {
      "text/plain": [
       "tensor([[[0.6887, 0.0848, 0.9919, 0.6378, 0.7851, 0.3636]],\n",
       "\n",
       "        [[0.4303, 0.0417, 0.3417, 0.7909, 0.7361, 0.9721]],\n",
       "\n",
       "        [[0.4405, 0.7878, 0.5268, 0.0902, 0.6004, 0.7472]],\n",
       "\n",
       "        [[0.8127, 0.8428, 0.4446, 0.0099, 0.4628, 0.9326]],\n",
       "\n",
       "        [[0.1924, 0.1868, 0.9922, 0.1819, 0.6936, 0.1372]]])"
      ]
     },
     "execution_count": 41,
     "metadata": {},
     "output_type": "execute_result"
    }
   ],
   "source": [
    "w34 = torch.unsqueeze(w34,1)\n",
    "print(w34.shape)\n",
    "w34"
   ]
  },
  {
   "cell_type": "code",
   "execution_count": 42,
   "metadata": {},
   "outputs": [
    {
     "data": {
      "text/plain": [
       "tensor([[[0.6887, 0.0848, 0.9919, 0.6378, 0.7851, 0.3636],\n",
       "         [0.6887, 0.0848, 0.9919, 0.6378, 0.7851, 0.3636]],\n",
       "\n",
       "        [[0.4303, 0.0417, 0.3417, 0.7909, 0.7361, 0.9721],\n",
       "         [0.4303, 0.0417, 0.3417, 0.7909, 0.7361, 0.9721]],\n",
       "\n",
       "        [[0.4405, 0.7878, 0.5268, 0.0902, 0.6004, 0.7472],\n",
       "         [0.4405, 0.7878, 0.5268, 0.0902, 0.6004, 0.7472]],\n",
       "\n",
       "        [[0.8127, 0.8428, 0.4446, 0.0099, 0.4628, 0.9326],\n",
       "         [0.8127, 0.8428, 0.4446, 0.0099, 0.4628, 0.9326]],\n",
       "\n",
       "        [[0.1924, 0.1868, 0.9922, 0.1819, 0.6936, 0.1372],\n",
       "         [0.1924, 0.1868, 0.9922, 0.1819, 0.6936, 0.1372]]])"
      ]
     },
     "execution_count": 42,
     "metadata": {},
     "output_type": "execute_result"
    }
   ],
   "source": [
    "w34 = w34.repeat(1,2,1)\n",
    "w34"
   ]
  },
  {
   "cell_type": "code",
   "execution_count": 43,
   "metadata": {},
   "outputs": [
    {
     "data": {
      "text/plain": [
       "torch.Size([5, 2, 6])"
      ]
     },
     "execution_count": 43,
     "metadata": {},
     "output_type": "execute_result"
    }
   ],
   "source": [
    "w34.shape"
   ]
  },
  {
   "cell_type": "code",
   "execution_count": 45,
   "metadata": {},
   "outputs": [
    {
     "data": {
      "text/plain": [
       "tensor([[0.6887, 0.0848, 0.9919, 0.6378, 0.7851, 0.3636, 0.6887, 0.0848, 0.9919,\n",
       "         0.6378, 0.7851, 0.3636],\n",
       "        [0.4303, 0.0417, 0.3417, 0.7909, 0.7361, 0.9721, 0.4303, 0.0417, 0.3417,\n",
       "         0.7909, 0.7361, 0.9721],\n",
       "        [0.4405, 0.7878, 0.5268, 0.0902, 0.6004, 0.7472, 0.4405, 0.7878, 0.5268,\n",
       "         0.0902, 0.6004, 0.7472],\n",
       "        [0.8127, 0.8428, 0.4446, 0.0099, 0.4628, 0.9326, 0.8127, 0.8428, 0.4446,\n",
       "         0.0099, 0.4628, 0.9326],\n",
       "        [0.1924, 0.1868, 0.9922, 0.1819, 0.6936, 0.1372, 0.1924, 0.1868, 0.9922,\n",
       "         0.1819, 0.6936, 0.1372]])"
      ]
     },
     "execution_count": 45,
     "metadata": {},
     "output_type": "execute_result"
    }
   ],
   "source": [
    "w34.view(5, -1)"
   ]
  },
  {
   "cell_type": "code",
   "execution_count": null,
   "metadata": {},
   "outputs": [],
   "source": []
  }
 ],
 "metadata": {
  "kernelspec": {
   "display_name": ".venv",
   "language": "python",
   "name": "python3"
  },
  "language_info": {
   "codemirror_mode": {
    "name": "ipython",
    "version": 3
   },
   "file_extension": ".py",
   "mimetype": "text/x-python",
   "name": "python",
   "nbconvert_exporter": "python",
   "pygments_lexer": "ipython3",
   "version": "3.10.12"
  }
 },
 "nbformat": 4,
 "nbformat_minor": 2
}
