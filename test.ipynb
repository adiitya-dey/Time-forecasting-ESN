{
 "cells": [
  {
   "cell_type": "code",
   "execution_count": 8,
   "metadata": {},
   "outputs": [],
   "source": [
    "import torch\n",
    "import torch.nn as nn"
   ]
  },
  {
   "cell_type": "code",
   "execution_count": 9,
   "metadata": {},
   "outputs": [],
   "source": [
    "import pandas as pd\n",
    "import numpy as np\n",
    "import matplotlib.pyplot as plt\n",
    "\n",
    "from sklearn.preprocessing import MinMaxScaler\n",
    "from sklearn.linear_model import Ridge\n",
    "from sklearn.metrics import mean_squared_error, mean_absolute_error, mean_absolute_percentage_error\n",
    "from sklearn.model_selection import train_test_split\n",
    "from sklearn.base import BaseEstimator\n",
    "\n",
    "from einops import rearrange, repeat, reduce\n",
    "\n",
    "from darts.datasets import AirPassengersDataset"
   ]
  },
  {
   "cell_type": "code",
   "execution_count": 18,
   "metadata": {},
   "outputs": [
    {
     "ename": "TypeError",
     "evalue": "randint() received an invalid combination of arguments - got (int, int, int), but expected one of:\n * (int high, tuple of ints size, *, torch.Generator generator, Tensor out, torch.dtype dtype, torch.layout layout, torch.device device, bool pin_memory, bool requires_grad)\n * (int high, tuple of ints size, *, Tensor out, torch.dtype dtype, torch.layout layout, torch.device device, bool pin_memory, bool requires_grad)\n * (int low, int high, tuple of ints size, *, torch.Generator generator, Tensor out, torch.dtype dtype, torch.layout layout, torch.device device, bool pin_memory, bool requires_grad)\n * (int low, int high, tuple of ints size, *, Tensor out, torch.dtype dtype, torch.layout layout, torch.device device, bool pin_memory, bool requires_grad)\n",
     "output_type": "error",
     "traceback": [
      "\u001b[0;31m---------------------------------------------------------------------------\u001b[0m",
      "\u001b[0;31mTypeError\u001b[0m                                 Traceback (most recent call last)",
      "Cell \u001b[0;32mIn[18], line 1\u001b[0m\n\u001b[0;32m----> 1\u001b[0m abc \u001b[38;5;241m=\u001b[39m \u001b[43mtorch\u001b[49m\u001b[38;5;241;43m.\u001b[39;49m\u001b[43mrandint\u001b[49m\u001b[43m(\u001b[49m\u001b[38;5;241;43m3\u001b[39;49m\u001b[43m,\u001b[49m\u001b[38;5;241;43m2\u001b[39;49m\u001b[43m,\u001b[49m\u001b[38;5;241;43m1\u001b[39;49m\u001b[43m)\u001b[49m\n\u001b[1;32m      2\u001b[0m abc\n",
      "\u001b[0;31mTypeError\u001b[0m: randint() received an invalid combination of arguments - got (int, int, int), but expected one of:\n * (int high, tuple of ints size, *, torch.Generator generator, Tensor out, torch.dtype dtype, torch.layout layout, torch.device device, bool pin_memory, bool requires_grad)\n * (int high, tuple of ints size, *, Tensor out, torch.dtype dtype, torch.layout layout, torch.device device, bool pin_memory, bool requires_grad)\n * (int low, int high, tuple of ints size, *, torch.Generator generator, Tensor out, torch.dtype dtype, torch.layout layout, torch.device device, bool pin_memory, bool requires_grad)\n * (int low, int high, tuple of ints size, *, Tensor out, torch.dtype dtype, torch.layout layout, torch.device device, bool pin_memory, bool requires_grad)\n"
     ]
    }
   ],
   "source": [
    "abc = torch.randint((3,2,1))\n",
    "abc"
   ]
  },
  {
   "cell_type": "code",
   "execution_count": 16,
   "metadata": {},
   "outputs": [
    {
     "data": {
      "text/plain": [
       "tensor([[[-0.6682, -0.4577,  1.0239],\n",
       "         [ 1.6317, -1.6285,  0.9457]]])"
      ]
     },
     "execution_count": 16,
     "metadata": {},
     "output_type": "execute_result"
    }
   ],
   "source": [
    "abc.T"
   ]
  },
  {
   "cell_type": "code",
   "execution_count": 17,
   "metadata": {},
   "outputs": [
    {
     "data": {
      "text/plain": [
       "tensor([[[-0.6682],\n",
       "         [ 1.6317]],\n",
       "\n",
       "        [[-0.6682],\n",
       "         [ 1.6317]],\n",
       "\n",
       "        [[-0.4577],\n",
       "         [-1.6285]],\n",
       "\n",
       "        [[-0.4577],\n",
       "         [-1.6285]],\n",
       "\n",
       "        [[ 1.0239],\n",
       "         [ 0.9457]],\n",
       "\n",
       "        [[ 1.0239],\n",
       "         [ 0.9457]]])"
      ]
     },
     "execution_count": 17,
     "metadata": {},
     "output_type": "execute_result"
    }
   ],
   "source": [
    "repeated = repeat(abc.T, 'a b c -> a b (c d)', d=2)\n",
    "repeated.T"
   ]
  },
  {
   "cell_type": "code",
   "execution_count": 35,
   "metadata": {},
   "outputs": [
    {
     "data": {
      "text/plain": [
       "tensor([[0.0000, 0.6457, 0.0000, 0.7242, 0.5432, 0.0000, 0.4747, 0.4126, 0.7515,\n",
       "         0.8499],\n",
       "        [0.6550, 0.0000, 1.1552, 0.3936, 0.0000, 0.0000, 0.0000, 0.5468, 0.1653,\n",
       "         1.0448],\n",
       "        [1.2065, 0.5543, 1.1400, 0.7455, 0.0000, 0.3520, 0.0000, 0.0717, 0.3421,\n",
       "         0.0000],\n",
       "        [1.0110, 0.3378, 0.0000, 1.0970, 0.0000, 0.7034, 0.6656, 1.1525, 0.0000,\n",
       "         0.0000],\n",
       "        [1.0889, 1.0551, 0.4952, 0.9576, 0.7845, 1.0906, 1.0253, 1.1148, 0.1821,\n",
       "         0.0000],\n",
       "        [0.0910, 0.0000, 0.8874, 0.0000, 0.3678, 0.0000, 0.2277, 0.8989, 0.9861,\n",
       "         0.6103],\n",
       "        [0.2647, 0.2626, 0.6799, 1.0186, 0.0000, 0.9722, 0.0000, 1.0253, 1.0377,\n",
       "         0.6132],\n",
       "        [0.7052, 0.0000, 0.1184, 0.8217, 1.1735, 0.9953, 0.5725, 0.0000, 0.5725,\n",
       "         0.2633],\n",
       "        [0.2560, 0.4214, 0.7247, 0.7127, 0.0000, 0.0746, 0.6694, 0.8181, 0.1043,\n",
       "         0.0000],\n",
       "        [0.2072, 0.6052, 1.0823, 0.2672, 0.8784, 0.2581, 0.3795, 0.8064, 0.0074,\n",
       "         0.0904]])"
      ]
     },
     "execution_count": 35,
     "metadata": {},
     "output_type": "execute_result"
    }
   ],
   "source": [
    "dropout = nn.Dropout(p=0.2)\n",
    "dropout.train(True)\n",
    "dropout(abc)"
   ]
  },
  {
   "cell_type": "code",
   "execution_count": 36,
   "metadata": {},
   "outputs": [
    {
     "data": {
      "text/plain": [
       "0.20712499999999998"
      ]
     },
     "execution_count": 36,
     "metadata": {},
     "output_type": "execute_result"
    }
   ],
   "source": [
    "0.1657/(1-0.2)"
   ]
  },
  {
   "cell_type": "code",
   "execution_count": 18,
   "metadata": {},
   "outputs": [],
   "source": [
    "dropout_rate = 0.5  # 50% dropout rate\n",
    "dropout = nn.Dropout(p=dropout_rate)\n",
    "\n",
    "# Example input tensor\n",
    "x = torch.tensor([1.0, 2.0, 3.0, 4.0])\n",
    "\n",
    "# Apply dropout during training\n",
    "dropout.train()  # Set the module in training mode\n",
    "output = dropout(x)"
   ]
  },
  {
   "cell_type": "code",
   "execution_count": 19,
   "metadata": {},
   "outputs": [
    {
     "data": {
      "text/plain": [
       "tensor([0., 4., 6., 8.])"
      ]
     },
     "execution_count": 19,
     "metadata": {},
     "output_type": "execute_result"
    }
   ],
   "source": [
    "output"
   ]
  },
  {
   "cell_type": "code",
   "execution_count": null,
   "metadata": {},
   "outputs": [],
   "source": []
  }
 ],
 "metadata": {
  "kernelspec": {
   "display_name": ".venv",
   "language": "python",
   "name": "python3"
  },
  "language_info": {
   "codemirror_mode": {
    "name": "ipython",
    "version": 3
   },
   "file_extension": ".py",
   "mimetype": "text/x-python",
   "name": "python",
   "nbconvert_exporter": "python",
   "pygments_lexer": "ipython3",
   "version": "3.10.12"
  }
 },
 "nbformat": 4,
 "nbformat_minor": 2
}
